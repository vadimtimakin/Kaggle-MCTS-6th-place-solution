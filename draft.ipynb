{
 "cells": [
  {
   "cell_type": "code",
   "execution_count": 2,
   "metadata": {},
   "outputs": [],
   "source": [
    "import pandas as pd\n",
    "\n",
    "df = pd.read_csv('/home/toefl/K/MCTS/dataset/train.csv')"
   ]
  },
  {
   "cell_type": "code",
   "execution_count": 5,
   "metadata": {},
   "outputs": [
    {
     "data": {
      "text/plain": [
       "97"
      ]
     },
     "execution_count": 5,
     "metadata": {},
     "output_type": "execute_result"
    }
   ],
   "source": [
    "df['AdvantageP1'].nunique()"
   ]
  },
  {
   "cell_type": "code",
   "execution_count": 6,
   "metadata": {},
   "outputs": [
    {
     "name": "stderr",
     "output_type": "stream",
     "text": [
      "<ipython-input-6-2f6f6606aa2c>:1: FutureWarning: The default value of numeric_only in DataFrame.corr is deprecated. In a future version, it will default to False. Select only valid columns or specify the value of numeric_only to silence this warning.\n",
      "  df.corr()\n"
     ]
    },
    {
     "data": {
      "text/html": [
       "<div>\n",
       "<style scoped>\n",
       "    .dataframe tbody tr th:only-of-type {\n",
       "        vertical-align: middle;\n",
       "    }\n",
       "\n",
       "    .dataframe tbody tr th {\n",
       "        vertical-align: top;\n",
       "    }\n",
       "\n",
       "    .dataframe thead th {\n",
       "        text-align: right;\n",
       "    }\n",
       "</style>\n",
       "<table border=\"1\" class=\"dataframe\">\n",
       "  <thead>\n",
       "    <tr style=\"text-align: right;\">\n",
       "      <th></th>\n",
       "      <th>Id</th>\n",
       "      <th>Properties</th>\n",
       "      <th>Format</th>\n",
       "      <th>Time</th>\n",
       "      <th>Discrete</th>\n",
       "      <th>Realtime</th>\n",
       "      <th>Turns</th>\n",
       "      <th>Alternating</th>\n",
       "      <th>Simultaneous</th>\n",
       "      <th>Stochastic</th>\n",
       "      <th>...</th>\n",
       "      <th>Then</th>\n",
       "      <th>ForEachPiece</th>\n",
       "      <th>DoLudeme</th>\n",
       "      <th>Trigger</th>\n",
       "      <th>PlayoutsPerSecond</th>\n",
       "      <th>MovesPerSecond</th>\n",
       "      <th>num_wins_agent1</th>\n",
       "      <th>num_draws_agent1</th>\n",
       "      <th>num_losses_agent1</th>\n",
       "      <th>utility_agent1</th>\n",
       "    </tr>\n",
       "  </thead>\n",
       "  <tbody>\n",
       "    <tr>\n",
       "      <th>Id</th>\n",
       "      <td>1.000000</td>\n",
       "      <td>NaN</td>\n",
       "      <td>NaN</td>\n",
       "      <td>NaN</td>\n",
       "      <td>NaN</td>\n",
       "      <td>NaN</td>\n",
       "      <td>NaN</td>\n",
       "      <td>NaN</td>\n",
       "      <td>NaN</td>\n",
       "      <td>-0.082242</td>\n",
       "      <td>...</td>\n",
       "      <td>0.030840</td>\n",
       "      <td>-0.020395</td>\n",
       "      <td>0.001320</td>\n",
       "      <td>-0.014770</td>\n",
       "      <td>0.035845</td>\n",
       "      <td>-0.027790</td>\n",
       "      <td>-0.012564</td>\n",
       "      <td>0.059317</td>\n",
       "      <td>-0.040535</td>\n",
       "      <td>0.015464</td>\n",
       "    </tr>\n",
       "    <tr>\n",
       "      <th>Properties</th>\n",
       "      <td>NaN</td>\n",
       "      <td>NaN</td>\n",
       "      <td>NaN</td>\n",
       "      <td>NaN</td>\n",
       "      <td>NaN</td>\n",
       "      <td>NaN</td>\n",
       "      <td>NaN</td>\n",
       "      <td>NaN</td>\n",
       "      <td>NaN</td>\n",
       "      <td>NaN</td>\n",
       "      <td>...</td>\n",
       "      <td>NaN</td>\n",
       "      <td>NaN</td>\n",
       "      <td>NaN</td>\n",
       "      <td>NaN</td>\n",
       "      <td>NaN</td>\n",
       "      <td>NaN</td>\n",
       "      <td>NaN</td>\n",
       "      <td>NaN</td>\n",
       "      <td>NaN</td>\n",
       "      <td>NaN</td>\n",
       "    </tr>\n",
       "    <tr>\n",
       "      <th>Format</th>\n",
       "      <td>NaN</td>\n",
       "      <td>NaN</td>\n",
       "      <td>NaN</td>\n",
       "      <td>NaN</td>\n",
       "      <td>NaN</td>\n",
       "      <td>NaN</td>\n",
       "      <td>NaN</td>\n",
       "      <td>NaN</td>\n",
       "      <td>NaN</td>\n",
       "      <td>NaN</td>\n",
       "      <td>...</td>\n",
       "      <td>NaN</td>\n",
       "      <td>NaN</td>\n",
       "      <td>NaN</td>\n",
       "      <td>NaN</td>\n",
       "      <td>NaN</td>\n",
       "      <td>NaN</td>\n",
       "      <td>NaN</td>\n",
       "      <td>NaN</td>\n",
       "      <td>NaN</td>\n",
       "      <td>NaN</td>\n",
       "    </tr>\n",
       "    <tr>\n",
       "      <th>Time</th>\n",
       "      <td>NaN</td>\n",
       "      <td>NaN</td>\n",
       "      <td>NaN</td>\n",
       "      <td>NaN</td>\n",
       "      <td>NaN</td>\n",
       "      <td>NaN</td>\n",
       "      <td>NaN</td>\n",
       "      <td>NaN</td>\n",
       "      <td>NaN</td>\n",
       "      <td>NaN</td>\n",
       "      <td>...</td>\n",
       "      <td>NaN</td>\n",
       "      <td>NaN</td>\n",
       "      <td>NaN</td>\n",
       "      <td>NaN</td>\n",
       "      <td>NaN</td>\n",
       "      <td>NaN</td>\n",
       "      <td>NaN</td>\n",
       "      <td>NaN</td>\n",
       "      <td>NaN</td>\n",
       "      <td>NaN</td>\n",
       "    </tr>\n",
       "    <tr>\n",
       "      <th>Discrete</th>\n",
       "      <td>NaN</td>\n",
       "      <td>NaN</td>\n",
       "      <td>NaN</td>\n",
       "      <td>NaN</td>\n",
       "      <td>NaN</td>\n",
       "      <td>NaN</td>\n",
       "      <td>NaN</td>\n",
       "      <td>NaN</td>\n",
       "      <td>NaN</td>\n",
       "      <td>NaN</td>\n",
       "      <td>...</td>\n",
       "      <td>NaN</td>\n",
       "      <td>NaN</td>\n",
       "      <td>NaN</td>\n",
       "      <td>NaN</td>\n",
       "      <td>NaN</td>\n",
       "      <td>NaN</td>\n",
       "      <td>NaN</td>\n",
       "      <td>NaN</td>\n",
       "      <td>NaN</td>\n",
       "      <td>NaN</td>\n",
       "    </tr>\n",
       "    <tr>\n",
       "      <th>...</th>\n",
       "      <td>...</td>\n",
       "      <td>...</td>\n",
       "      <td>...</td>\n",
       "      <td>...</td>\n",
       "      <td>...</td>\n",
       "      <td>...</td>\n",
       "      <td>...</td>\n",
       "      <td>...</td>\n",
       "      <td>...</td>\n",
       "      <td>...</td>\n",
       "      <td>...</td>\n",
       "      <td>...</td>\n",
       "      <td>...</td>\n",
       "      <td>...</td>\n",
       "      <td>...</td>\n",
       "      <td>...</td>\n",
       "      <td>...</td>\n",
       "      <td>...</td>\n",
       "      <td>...</td>\n",
       "      <td>...</td>\n",
       "      <td>...</td>\n",
       "    </tr>\n",
       "    <tr>\n",
       "      <th>MovesPerSecond</th>\n",
       "      <td>-0.027790</td>\n",
       "      <td>NaN</td>\n",
       "      <td>NaN</td>\n",
       "      <td>NaN</td>\n",
       "      <td>NaN</td>\n",
       "      <td>NaN</td>\n",
       "      <td>NaN</td>\n",
       "      <td>NaN</td>\n",
       "      <td>NaN</td>\n",
       "      <td>-0.123085</td>\n",
       "      <td>...</td>\n",
       "      <td>-0.453033</td>\n",
       "      <td>0.121099</td>\n",
       "      <td>-0.370971</td>\n",
       "      <td>-0.062054</td>\n",
       "      <td>0.569310</td>\n",
       "      <td>1.000000</td>\n",
       "      <td>-0.006102</td>\n",
       "      <td>-0.000747</td>\n",
       "      <td>0.004158</td>\n",
       "      <td>-0.005987</td>\n",
       "    </tr>\n",
       "    <tr>\n",
       "      <th>num_wins_agent1</th>\n",
       "      <td>-0.012564</td>\n",
       "      <td>NaN</td>\n",
       "      <td>NaN</td>\n",
       "      <td>NaN</td>\n",
       "      <td>NaN</td>\n",
       "      <td>NaN</td>\n",
       "      <td>NaN</td>\n",
       "      <td>NaN</td>\n",
       "      <td>NaN</td>\n",
       "      <td>0.026049</td>\n",
       "      <td>...</td>\n",
       "      <td>-0.023047</td>\n",
       "      <td>0.004871</td>\n",
       "      <td>0.000198</td>\n",
       "      <td>-0.020390</td>\n",
       "      <td>-0.046389</td>\n",
       "      <td>-0.006102</td>\n",
       "      <td>1.000000</td>\n",
       "      <td>-0.444640</td>\n",
       "      <td>-0.587193</td>\n",
       "      <td>0.887889</td>\n",
       "    </tr>\n",
       "    <tr>\n",
       "      <th>num_draws_agent1</th>\n",
       "      <td>0.059317</td>\n",
       "      <td>NaN</td>\n",
       "      <td>NaN</td>\n",
       "      <td>NaN</td>\n",
       "      <td>NaN</td>\n",
       "      <td>NaN</td>\n",
       "      <td>NaN</td>\n",
       "      <td>NaN</td>\n",
       "      <td>NaN</td>\n",
       "      <td>-0.075996</td>\n",
       "      <td>...</td>\n",
       "      <td>0.010181</td>\n",
       "      <td>-0.008809</td>\n",
       "      <td>-0.039491</td>\n",
       "      <td>-0.044932</td>\n",
       "      <td>0.066060</td>\n",
       "      <td>-0.000747</td>\n",
       "      <td>-0.444640</td>\n",
       "      <td>1.000000</td>\n",
       "      <td>-0.409875</td>\n",
       "      <td>-0.024477</td>\n",
       "    </tr>\n",
       "    <tr>\n",
       "      <th>num_losses_agent1</th>\n",
       "      <td>-0.040535</td>\n",
       "      <td>NaN</td>\n",
       "      <td>NaN</td>\n",
       "      <td>NaN</td>\n",
       "      <td>NaN</td>\n",
       "      <td>NaN</td>\n",
       "      <td>NaN</td>\n",
       "      <td>NaN</td>\n",
       "      <td>NaN</td>\n",
       "      <td>0.051294</td>\n",
       "      <td>...</td>\n",
       "      <td>0.018282</td>\n",
       "      <td>0.001893</td>\n",
       "      <td>0.038522</td>\n",
       "      <td>0.061520</td>\n",
       "      <td>-0.011915</td>\n",
       "      <td>0.004158</td>\n",
       "      <td>-0.587193</td>\n",
       "      <td>-0.409875</td>\n",
       "      <td>1.000000</td>\n",
       "      <td>-0.884773</td>\n",
       "    </tr>\n",
       "    <tr>\n",
       "      <th>utility_agent1</th>\n",
       "      <td>0.015464</td>\n",
       "      <td>NaN</td>\n",
       "      <td>NaN</td>\n",
       "      <td>NaN</td>\n",
       "      <td>NaN</td>\n",
       "      <td>NaN</td>\n",
       "      <td>NaN</td>\n",
       "      <td>NaN</td>\n",
       "      <td>NaN</td>\n",
       "      <td>-0.013831</td>\n",
       "      <td>...</td>\n",
       "      <td>-0.023340</td>\n",
       "      <td>0.001986</td>\n",
       "      <td>-0.021446</td>\n",
       "      <td>-0.046024</td>\n",
       "      <td>-0.020119</td>\n",
       "      <td>-0.005987</td>\n",
       "      <td>0.887889</td>\n",
       "      <td>-0.024477</td>\n",
       "      <td>-0.884773</td>\n",
       "      <td>1.000000</td>\n",
       "    </tr>\n",
       "  </tbody>\n",
       "</table>\n",
       "<p>809 rows × 809 columns</p>\n",
       "</div>"
      ],
      "text/plain": [
       "                         Id  Properties  Format  Time  Discrete  Realtime  \\\n",
       "Id                 1.000000         NaN     NaN   NaN       NaN       NaN   \n",
       "Properties              NaN         NaN     NaN   NaN       NaN       NaN   \n",
       "Format                  NaN         NaN     NaN   NaN       NaN       NaN   \n",
       "Time                    NaN         NaN     NaN   NaN       NaN       NaN   \n",
       "Discrete                NaN         NaN     NaN   NaN       NaN       NaN   \n",
       "...                     ...         ...     ...   ...       ...       ...   \n",
       "MovesPerSecond    -0.027790         NaN     NaN   NaN       NaN       NaN   \n",
       "num_wins_agent1   -0.012564         NaN     NaN   NaN       NaN       NaN   \n",
       "num_draws_agent1   0.059317         NaN     NaN   NaN       NaN       NaN   \n",
       "num_losses_agent1 -0.040535         NaN     NaN   NaN       NaN       NaN   \n",
       "utility_agent1     0.015464         NaN     NaN   NaN       NaN       NaN   \n",
       "\n",
       "                   Turns  Alternating  Simultaneous  Stochastic  ...  \\\n",
       "Id                   NaN          NaN           NaN   -0.082242  ...   \n",
       "Properties           NaN          NaN           NaN         NaN  ...   \n",
       "Format               NaN          NaN           NaN         NaN  ...   \n",
       "Time                 NaN          NaN           NaN         NaN  ...   \n",
       "Discrete             NaN          NaN           NaN         NaN  ...   \n",
       "...                  ...          ...           ...         ...  ...   \n",
       "MovesPerSecond       NaN          NaN           NaN   -0.123085  ...   \n",
       "num_wins_agent1      NaN          NaN           NaN    0.026049  ...   \n",
       "num_draws_agent1     NaN          NaN           NaN   -0.075996  ...   \n",
       "num_losses_agent1    NaN          NaN           NaN    0.051294  ...   \n",
       "utility_agent1       NaN          NaN           NaN   -0.013831  ...   \n",
       "\n",
       "                       Then  ForEachPiece  DoLudeme   Trigger  \\\n",
       "Id                 0.030840     -0.020395  0.001320 -0.014770   \n",
       "Properties              NaN           NaN       NaN       NaN   \n",
       "Format                  NaN           NaN       NaN       NaN   \n",
       "Time                    NaN           NaN       NaN       NaN   \n",
       "Discrete                NaN           NaN       NaN       NaN   \n",
       "...                     ...           ...       ...       ...   \n",
       "MovesPerSecond    -0.453033      0.121099 -0.370971 -0.062054   \n",
       "num_wins_agent1   -0.023047      0.004871  0.000198 -0.020390   \n",
       "num_draws_agent1   0.010181     -0.008809 -0.039491 -0.044932   \n",
       "num_losses_agent1  0.018282      0.001893  0.038522  0.061520   \n",
       "utility_agent1    -0.023340      0.001986 -0.021446 -0.046024   \n",
       "\n",
       "                   PlayoutsPerSecond  MovesPerSecond  num_wins_agent1  \\\n",
       "Id                          0.035845       -0.027790        -0.012564   \n",
       "Properties                       NaN             NaN              NaN   \n",
       "Format                           NaN             NaN              NaN   \n",
       "Time                             NaN             NaN              NaN   \n",
       "Discrete                         NaN             NaN              NaN   \n",
       "...                              ...             ...              ...   \n",
       "MovesPerSecond              0.569310        1.000000        -0.006102   \n",
       "num_wins_agent1            -0.046389       -0.006102         1.000000   \n",
       "num_draws_agent1            0.066060       -0.000747        -0.444640   \n",
       "num_losses_agent1          -0.011915        0.004158        -0.587193   \n",
       "utility_agent1             -0.020119       -0.005987         0.887889   \n",
       "\n",
       "                   num_draws_agent1  num_losses_agent1  utility_agent1  \n",
       "Id                         0.059317          -0.040535        0.015464  \n",
       "Properties                      NaN                NaN             NaN  \n",
       "Format                          NaN                NaN             NaN  \n",
       "Time                            NaN                NaN             NaN  \n",
       "Discrete                        NaN                NaN             NaN  \n",
       "...                             ...                ...             ...  \n",
       "MovesPerSecond            -0.000747           0.004158       -0.005987  \n",
       "num_wins_agent1           -0.444640          -0.587193        0.887889  \n",
       "num_draws_agent1           1.000000          -0.409875       -0.024477  \n",
       "num_losses_agent1         -0.409875           1.000000       -0.884773  \n",
       "utility_agent1            -0.024477          -0.884773        1.000000  \n",
       "\n",
       "[809 rows x 809 columns]"
      ]
     },
     "execution_count": 6,
     "metadata": {},
     "output_type": "execute_result"
    }
   ],
   "source": [
    "df.corr()"
   ]
  },
  {
   "cell_type": "code",
   "execution_count": 3,
   "metadata": {},
   "outputs": [
    {
     "data": {
      "image/png": "[encoded data removed]",
      "text/plain": [
       "<Figure size 576x432 with 1 Axes>"
      ]
     },
     "metadata": {
      "needs_background": "light"
     },
     "output_type": "display_data"
    },
    {
     "data": {
      "image/png": "[encoded data removed]",
      "text/plain": [
       "<Figure size 576x432 with 1 Axes>"
      ]
     },
     "metadata": {
      "needs_background": "light"
     },
     "output_type": "display_data"
    }
   ],
   "source": [
    "import pandas as pd\n",
    "import seaborn as sns\n",
    "import matplotlib.pyplot as plt\n",
    "\n",
    "plt.figure(figsize=(8, 6))\n",
    "sns.histplot(df['AdvantageP1'], kde=False, bins=100, color='blue')\n",
    "plt.title('**Distribución de la Variable**')\n",
    "plt.xlabel('**Valores**')\n",
    "plt.ylabel('**Frecuencia**')\n",
    "plt.show()\n",
    "\n",
    "plt.figure(figsize=(8, 6))\n",
    "sns.kdeplot(df['AdvantageP1'], shade=True, color='green')\n",
    "plt.title('**Estimación de Densidad de Kernel (KDE)**')\n",
    "plt.xlabel('**Valores**')\n",
    "plt.ylabel('**Densidad**')\n",
    "plt.show()"
   ]
  },
  {
   "cell_type": "code",
   "execution_count": 9,
   "metadata": {},
   "outputs": [
    {
     "data": {
      "image/png": "[encoded data removed]",
      "text/plain": [
       "<Figure size 432x288 with 1 Axes>"
      ]
     },
     "metadata": {
      "needs_background": "light"
     },
     "output_type": "display_data"
    }
   ],
   "source": [
    "import numpy as np\n",
    "import matplotlib.pyplot as plt\n",
    "\n",
    "plt.bar(*np.unique(df['AdvantageP1'].to_numpy(), return_counts=True), width=0.05, color='y')\n",
    "plt.xlabel('utility_agent1 (target)')\n",
    "plt.ylabel('count')\n",
    "plt.xticks(np.linspace(-1, 1, 11))\n",
    "plt.title('Target distribution')\n",
    "plt.show()"
   ]
  },
  {
   "cell_type": "code",
   "execution_count": 48,
   "metadata": {},
   "outputs": [],
   "source": [
    "df = df[df[\"LudRules\"].apply(lambda x: \"start\" in x)]"
   ]
  },
  {
   "cell_type": "code",
   "execution_count": 50,
   "metadata": {},
   "outputs": [
    {
     "data": {
      "text/plain": [
       "'(game \"1D Chess\" (players 2) (equipment { (board (rectangle 1 8)) (piece \"Rook\" Each (move Slide Orthogonal (to if:(is Enemy (who at:(to))) (apply (remove (to)))) ) ) (piece \"King\" Each (move Step (to if:(not (is Friend (who at:(to)))) (apply (if (is Enemy (who at:(to))) (remove (to)))) ) ) ) (piece \"Knight\" Each (move Leap { { F F } } (to if:(not (is Friend (who at:(to)))) (apply (if (is Enemy (who at:(to))) (remove (to)))) ) ) ) } ) (rules (start { (place \"Rook1\" coord:\"C1\") (place \"Knight1\" coord:\"B1\") (place \"King1\" coord:\"A1\") (place \"Rook2\" coord:\"F1\") (place \"Knight2\" coord:\"G1\") (place \"King2\" coord:\"H1\") } ) (play (do (forEach Piece) ifAfterwards:(not (is Threatened (id \"King\" Mover))) ) ) (end { (if (and (is Threatened (id \"King\" Next)) (not (can Move (do (forEach Piece Next) ifAfterwards:(not (is Threatened (id \"King\" Next)) ) ) ) ) ) (result Mover Win) ) (if (or (no Moves Mover) (= (counter) 100)) (result Mover Draw) ) } ) ) )'"
      ]
     },
     "execution_count": 50,
     "metadata": {},
     "output_type": "execute_result"
    }
   ],
   "source": [
    "df[\"LudRules\"].tolist()[10]"
   ]
  },
  {
   "cell_type": "code",
   "execution_count": 21,
   "metadata": {},
   "outputs": [
    {
     "data": {
      "text/plain": [
       "Series([], dtype: int64)"
      ]
     },
     "execution_count": 21,
     "metadata": {},
     "output_type": "execute_result"
    }
   ],
   "source": [
    "df.value_counts()"
   ]
  },
  {
   "cell_type": "code",
   "execution_count": 35,
   "metadata": {},
   "outputs": [],
   "source": [
    "f = pd.read_csv('/home/toefl/K/MCTS/dataset/feature_importance.csv')"
   ]
  },
  {
   "cell_type": "code",
   "execution_count": 36,
   "metadata": {},
   "outputs": [
    {
     "name": "stdout",
     "output_type": "stream",
     "text": [
      "['src_AdvantageP1', 'src_p2_selection', 'src_AdvantageBalanceRatio', 'src_p2_playout', 'src_p2_agent', 'src_selection_exploration', 'src_p2_exploration', 'src_AdvantageTimeImpact', 'src_exploration_selection', 'src_OutcomeUniformityAdvantageP1', 'src_p1_playout', 'src_p1_selection', 'src_selection_playout', 'src_playout_playout', 'src_exploration_playout', 'src_selection_selection', 'src_selection_bounds', 'src_playout_bounds', 'src_p1_exploration', 'src_playout_selection', 'src_exploration_bounds', 'src_playout_exploration', 'src_bounds_selection', 'src_p1_agent', 'src_exploration_exploration', 'src_p2_bounds', 'src_bounds_playout', 'src_bounds_exploration', 'src_agent_agent', 'src_playout_agent', 'src_agent_playout', 'src_exploration_agent', 'src_bounds_agent', 'src_agent_exploration', 'src_agent_selection', 'src_agent_bounds', 'src_p1_bounds', 'src_selection_agent', 'src_bounds_bounds']\n"
     ]
    }
   ],
   "source": [
    "print([column for column in f.feature.tolist() if 'src' in column])"
   ]
  },
  {
   "cell_type": "code",
   "execution_count": 52,
   "metadata": {},
   "outputs": [
    {
     "data": {
      "text/html": [
       "<div>\n",
       "<style scoped>\n",
       "    .dataframe tbody tr th:only-of-type {\n",
       "        vertical-align: middle;\n",
       "    }\n",
       "\n",
       "    .dataframe tbody tr th {\n",
       "        vertical-align: top;\n",
       "    }\n",
       "\n",
       "    .dataframe thead th {\n",
       "        text-align: right;\n",
       "    }\n",
       "</style>\n",
       "<table border=\"1\" class=\"dataframe\">\n",
       "  <thead>\n",
       "    <tr style=\"text-align: right;\">\n",
       "      <th></th>\n",
       "      <th>Unnamed: 0</th>\n",
       "      <th>feature</th>\n",
       "      <th>importance</th>\n",
       "    </tr>\n",
       "  </thead>\n",
       "  <tbody>\n",
       "    <tr>\n",
       "      <th>457</th>\n",
       "      <td>587</td>\n",
       "      <td>src_AdvantageP1</td>\n",
       "      <td>0.019873</td>\n",
       "    </tr>\n",
       "  </tbody>\n",
       "</table>\n",
       "</div>"
      ],
      "text/plain": [
       "     Unnamed: 0          feature  importance\n",
       "457         587  src_AdvantageP1    0.019873"
      ]
     },
     "execution_count": 52,
     "metadata": {},
     "output_type": "execute_result"
    }
   ],
   "source": [
    "f[f[\"feature\"] == \"src_AdvantageP1\"]"
   ]
  },
  {
   "cell_type": "code",
   "execution_count": 3,
   "metadata": {},
   "outputs": [
    {
     "ename": "NameError",
     "evalue": "name 'f' is not defined",
     "output_type": "error",
     "traceback": [
      "\u001b[0;31m---------------------------------------------------------------------------\u001b[0m",
      "\u001b[0;31mNameError\u001b[0m                                 Traceback (most recent call last)",
      "\u001b[0;32m<ipython-input-3-a9fcd54b25e7>\u001b[0m in \u001b[0;36m<module>\u001b[0;34m\u001b[0m\n\u001b[0;32m----> 1\u001b[0;31m \u001b[0mf\u001b[0m\u001b[0;34m\u001b[0m\u001b[0;34m\u001b[0m\u001b[0m\n\u001b[0m",
      "\u001b[0;31mNameError\u001b[0m: name 'f' is not defined"
     ]
    }
   ],
   "source": [
    "f"
   ]
  },
  {
   "cell_type": "code",
   "execution_count": 18,
   "metadata": {},
   "outputs": [],
   "source": [
    "import pickle\n",
    "with open('catcols.pickle', 'rb') as file:\n",
    "    catcols = pickle.load(file)"
   ]
  },
  {
   "cell_type": "code",
   "execution_count": 19,
   "metadata": {},
   "outputs": [
    {
     "name": "stdout",
     "output_type": "stream",
     "text": [
      "['src_p1_selection', 'src_p1_exploration', 'src_p1_playout', 'src_p1_bounds', 'src_p2_selection', 'src_p2_exploration', 'src_p2_playout', 'src_p2_bounds', 'src_agent1', 'src_agent2']\n"
     ]
    }
   ],
   "source": [
    "print(catcols)"
   ]
  },
  {
   "cell_type": "code",
   "execution_count": null,
   "metadata": {},
   "outputs": [],
   "source": [
    "            # X_train = X_train.rename(columns={\"src_Balance\": \"Balance\"})\n",
    "            # X_valid_src = X_valid_src.rename(columns={\"src_Balance\": \"Balance\"})\n",
    "            # X_valid_tta = X_valid_tta.rename(columns={\"src_Balance\": \"Balance\"})"
   ]
  },
  {
   "cell_type": "code",
   "execution_count": 10,
   "metadata": {},
   "outputs": [
    {
     "data": {
      "text/plain": [
       "(598, 2)"
      ]
     },
     "execution_count": 10,
     "metadata": {},
     "output_type": "execute_result"
    }
   ],
   "source": [
    "f.shape"
   ]
  },
  {
   "cell_type": "code",
   "execution_count": 13,
   "metadata": {},
   "outputs": [
    {
     "data": {
      "text/plain": [
       "424"
      ]
     },
     "execution_count": 13,
     "metadata": {},
     "output_type": "execute_result"
    }
   ],
   "source": [
    "len(f[f[\"importance\"] < 0.01])"
   ]
  },
  {
   "cell_type": "code",
   "execution_count": 15,
   "metadata": {},
   "outputs": [
    {
     "data": {
      "text/plain": [
       "['Drawishness',\n",
       " 'NoMovesEndFrequency',\n",
       " 'MoveDistanceChangeSign',\n",
       " 'ScoreDifferenceChangeSign',\n",
       " 'Comparison',\n",
       " 'SwapPlayersDecisionFrequency',\n",
       " 'ForEachPiece',\n",
       " 'NumPhasesBoard',\n",
       " 'PieceNumberMaxIncrease',\n",
       " 'SowCW',\n",
       " 'StepDecisionToFriendFrequency',\n",
       " 'ConnectionEndFrequency',\n",
       " 'Cell',\n",
       " 'SetNextPlayer',\n",
       " 'Equal',\n",
       " 'NumConcaveCorners',\n",
       " 'HopDecisionFrequency',\n",
       " 'SowSkip',\n",
       " 'ReplacementCaptureFrequency',\n",
       " 'Negation',\n",
       " 'NoMovesDraw',\n",
       " 'ScoreDifferenceVariance',\n",
       " 'SlideDecisionFrequency',\n",
       " 'SlideDecisionToEnemyFrequency',\n",
       " 'NoMovesNext',\n",
       " 'LesserThanOrEqual',\n",
       " 'SlideDecisionToFriendFrequency',\n",
       " 'Complement',\n",
       " 'Arithmetic',\n",
       " 'NoMovesLossFrequency',\n",
       " 'NoTargetPieceEndFrequency',\n",
       " 'MoveDistanceChangeLineBestFit',\n",
       " 'PromotionEffectFrequency',\n",
       " 'Algorithmics',\n",
       " 'GoStyle',\n",
       " 'Capture',\n",
       " 'ScoreDifferenceAverage',\n",
       " 'AddEffectFrequency',\n",
       " 'Then',\n",
       " 'LeapDecisionFrequency',\n",
       " 'ScoreDifferenceMaxDecrease',\n",
       " 'SpaceEnd',\n",
       " 'DiscComponent',\n",
       " 'ScoreDifferenceChangeLineBestFit',\n",
       " 'PieceCount',\n",
       " 'ScoringWinFrequency',\n",
       " 'Phase',\n",
       " 'SquareShape',\n",
       " 'CopyContext',\n",
       " 'GraphStyle',\n",
       " 'SingleSiteMoves',\n",
       " 'PieceConditions',\n",
       " 'BackwardsDirection',\n",
       " 'CountPiecesNextComparison',\n",
       " 'NoMovesEnd',\n",
       " 'IsFriend',\n",
       " 'SowProperties',\n",
       " 'NoSiteMoves',\n",
       " 'Intersection',\n",
       " 'Contains',\n",
       " 'CheckersComponent',\n",
       " 'MancalaStores',\n",
       " 'NotEqual',\n",
       " 'ComponentStyle',\n",
       " 'SowBacktrackingFrequency',\n",
       " 'Multiplication',\n",
       " 'MovesEffects',\n",
       " 'EliminatePiecesEnd',\n",
       " 'AlquerqueTiling',\n",
       " 'FromToDecision',\n",
       " 'CrossBoard',\n",
       " 'CaptureEnd',\n",
       " 'HopCaptureMoreThanOne',\n",
       " 'RollFrequency',\n",
       " 'NumContainers',\n",
       " 'LesserThan',\n",
       " 'EliminatePiecesWin',\n",
       " 'ReachEnd',\n",
       " 'Math',\n",
       " 'Symbols',\n",
       " 'SetMove',\n",
       " 'RemoveEffect',\n",
       " 'PassDecision',\n",
       " 'TrackLoop',\n",
       " 'Visual',\n",
       " 'PatternEnd',\n",
       " 'MovesNonDecision',\n",
       " 'IsEnemy',\n",
       " 'TerritoryWinFrequency',\n",
       " 'PushEffectFrequency',\n",
       " 'ConnectionLossFrequency',\n",
       " 'ChessStyle',\n",
       " 'AbsoluteDirections',\n",
       " 'NoPiece',\n",
       " 'PlayerValue',\n",
       " 'FromToDecisionEnemyFrequency',\n",
       " 'Even',\n",
       " 'ScoreDifferenceMedian',\n",
       " 'NoMovesMover',\n",
       " 'SetVar',\n",
       " 'Addition',\n",
       " 'MoveDistanceChangeNumTimes',\n",
       " 'MancalaFourRows',\n",
       " 'Trigger',\n",
       " 'HopDecisionFriendToEnemyFrequency',\n",
       " 'PatternWinFrequency',\n",
       " 'MovesOperators',\n",
       " 'FlipFrequency',\n",
       " 'BallComponent',\n",
       " 'RemoveDecision',\n",
       " 'Maximum',\n",
       " 'TerritoryEndFrequency',\n",
       " 'CountPiecesMoverComparison',\n",
       " 'Start',\n",
       " 'NoPieceNext',\n",
       " 'HopDecisionMoreThanOne',\n",
       " 'LineLossFrequency',\n",
       " 'SetPending',\n",
       " 'HexShape',\n",
       " 'StarBoard',\n",
       " 'SwapOption',\n",
       " 'TaflStyle',\n",
       " 'ForwardsDirection',\n",
       " 'IsEmpty',\n",
       " 'PatternWin',\n",
       " 'BoardStyle',\n",
       " 'SetValueFrequency',\n",
       " 'PromotionDecision',\n",
       " 'Track',\n",
       " 'GreaterThan',\n",
       " 'NumLayers',\n",
       " 'LineWin',\n",
       " 'SquareTiling',\n",
       " 'NoMovesWin',\n",
       " 'SlideDecisionToEmpty',\n",
       " 'MaxMovesInTurn',\n",
       " 'CheckmateWinFrequency',\n",
       " 'Parity',\n",
       " 'SwapPiecesDecisionFrequency',\n",
       " 'AlquerqueBoard',\n",
       " 'Vertex',\n",
       " 'ShootDecision',\n",
       " 'SwapPlayersDecision',\n",
       " 'OpeningContract',\n",
       " 'Misere',\n",
       " 'ScoringEndFrequency',\n",
       " 'StepDecision',\n",
       " 'SiteState',\n",
       " 'Efficiency',\n",
       " 'GroupEndFrequency',\n",
       " 'LeftwardDirection',\n",
       " 'DiamondShape',\n",
       " 'StepDecisionToFriend',\n",
       " 'Shape',\n",
       " 'Priority',\n",
       " 'TriangleShape',\n",
       " 'FromToDecisionFrequency',\n",
       " 'ConnectionWin',\n",
       " 'CheckmateFrequency',\n",
       " 'LineEnd',\n",
       " 'AlquerqueBoardWithOneTriangle',\n",
       " 'NoTargetPieceEnd',\n",
       " 'LineOfSight',\n",
       " 'IsPieceAt',\n",
       " 'ReplacementCapture',\n",
       " 'EncloseCaptureFrequency',\n",
       " 'Draw',\n",
       " 'HexTiling',\n",
       " 'FillWinFrequency',\n",
       " 'MoveAgain',\n",
       " 'HopEffect',\n",
       " 'PieceState',\n",
       " 'StepEffect',\n",
       " 'SwapPlayersEffect',\n",
       " 'RectangleShape',\n",
       " 'MovesDecision',\n",
       " 'EliminatePiecesLossFrequency',\n",
       " 'Style',\n",
       " 'PieceRotation',\n",
       " 'PiecesPlacedOutsideBoard',\n",
       " 'RememberValues',\n",
       " 'HopDecision',\n",
       " 'CountPiecesComparison',\n",
       " 'PatternEndFrequency',\n",
       " 'NumDice',\n",
       " 'RightwardDirection',\n",
       " 'RaceEnd',\n",
       " 'PlayersWithDirections',\n",
       " 'TwoSitesMoves',\n",
       " 'TrackOwned',\n",
       " 'VoteEffect',\n",
       " 'HopDecisionFriendToFriendFrequency',\n",
       " 'Moves',\n",
       " 'NoOwnPiecesEndFrequency',\n",
       " 'ShootDecisionFrequency',\n",
       " 'Pattern',\n",
       " 'Directions',\n",
       " 'VoteDecision',\n",
       " 'SetRotation',\n",
       " 'DiceD6',\n",
       " 'ScoringWin',\n",
       " 'SetSiteState',\n",
       " 'Group',\n",
       " 'NoProgressDrawFrequency',\n",
       " 'Conditions',\n",
       " 'PieceDirection',\n",
       " 'NoProgressEndFrequency',\n",
       " 'NoTargetPieceWinFrequency',\n",
       " 'LeapEffect',\n",
       " 'ConcentricTiling',\n",
       " 'FillEndFrequency',\n",
       " 'CanMove',\n",
       " 'SowCCW',\n",
       " 'LeapDecisionToEmptyFrequency',\n",
       " 'Division',\n",
       " 'Tiling',\n",
       " 'AlquerqueBoardWithFourTriangles',\n",
       " 'OppositeDirection',\n",
       " 'TaflComponent',\n",
       " 'CustodialCapture',\n",
       " 'StepDecisionToEmpty',\n",
       " 'GroupWinFrequency',\n",
       " 'ForgetValues',\n",
       " 'NoOwnPiecesWinFrequency',\n",
       " 'PiecesPlacedOnBoard',\n",
       " 'DiagonalDirection',\n",
       " 'LineLoss',\n",
       " 'Implementation',\n",
       " 'ConnectionEnd',\n",
       " 'AddDecision',\n",
       " 'LeapDecisionToEnemyFrequency',\n",
       " 'SowOriginFirst',\n",
       " 'RegularShape',\n",
       " 'CaptureSequenceFrequency',\n",
       " 'Meta',\n",
       " 'HopDecisionFriendToEnemy',\n",
       " 'HopDecisionFriendToEmptyFrequency',\n",
       " 'SurakartaStyle',\n",
       " 'NineMensMorrisBoard',\n",
       " 'RelativeDirections',\n",
       " 'PieceValue',\n",
       " 'TriangleTiling',\n",
       " 'MancalaTwoRows',\n",
       " 'ScoringEnd',\n",
       " 'ProposeDecision',\n",
       " 'PromotionDecisionFrequency',\n",
       " 'Scoring',\n",
       " 'ProgressCheck',\n",
       " 'PromotionEffect',\n",
       " 'ChessComponent',\n",
       " 'StackType',\n",
       " 'ProposeDecisionFrequency',\n",
       " 'NoMovesLoss',\n",
       " 'ScoringDraw',\n",
       " 'Hand',\n",
       " 'BackgammonStyle',\n",
       " 'Odd',\n",
       " 'SemiRegularTiling',\n",
       " 'XiangqiStyle',\n",
       " 'NoBoard',\n",
       " 'Stack',\n",
       " 'PawnComponent',\n",
       " 'ConnectionLoss',\n",
       " 'SquarePyramidalShape',\n",
       " 'ShowPieceState',\n",
       " 'ScoringLoss',\n",
       " 'SetCountFrequency',\n",
       " 'Edge',\n",
       " 'EncloseCapture',\n",
       " 'PolygonShape',\n",
       " 'QueenComponent',\n",
       " 'ShowPieceValue',\n",
       " 'StepDecisionToEnemy',\n",
       " 'ByDieMove',\n",
       " 'InitialCost',\n",
       " 'FromToEffect',\n",
       " 'TableStyle',\n",
       " 'AlquerqueBoardWithTwoTriangles',\n",
       " 'InternalCounter',\n",
       " 'NoOwnPiecesEnd',\n",
       " 'SlideDecision',\n",
       " 'SetInternalCounter',\n",
       " 'HopDecisionEnemyToEnemyFrequency',\n",
       " 'RotationDecision',\n",
       " 'AlquerqueBoardWithEightTriangles',\n",
       " 'ShibumiStyle',\n",
       " 'GroupWin',\n",
       " 'ReachWin',\n",
       " 'CanNotMove',\n",
       " 'Threat',\n",
       " 'HopDecisionEnemyToEnemy',\n",
       " 'NoMovesDrawFrequency',\n",
       " 'GroupEnd',\n",
       " 'NoTargetPiece',\n",
       " 'DiceD4',\n",
       " 'Modulo',\n",
       " 'FromToDecisionEmpty',\n",
       " 'ReachLoss',\n",
       " 'TurnKo',\n",
       " 'Territory',\n",
       " 'AddEffect',\n",
       " 'Stochastic',\n",
       " 'Dice',\n",
       " 'SlideEffect',\n",
       " 'StateType',\n",
       " 'Minimum',\n",
       " 'BackwardDirection',\n",
       " 'FairyChessComponent',\n",
       " 'PassEffect',\n",
       " 'EliminatePiecesLoss',\n",
       " 'NoPieceMover',\n",
       " 'InitialScore',\n",
       " 'ScoringLossFrequency',\n",
       " 'TerritoryEnd',\n",
       " 'StackState',\n",
       " 'ProposeEffectFrequency',\n",
       " 'Absolute',\n",
       " 'NumOffDiagonalDirections',\n",
       " 'SowRemove',\n",
       " 'FromToDecisionFriend',\n",
       " 'RotationDecisionFrequency',\n",
       " 'RotationalDirection',\n",
       " 'PositionalSuperko',\n",
       " 'ForwardDirection',\n",
       " 'CheckmateWin',\n",
       " 'SameDirection',\n",
       " 'LargePiece',\n",
       " 'NoOwnPiecesLossFrequency',\n",
       " 'KnightComponent',\n",
       " 'BranchingFactorChangeNumTimesn',\n",
       " 'Loop',\n",
       " 'LineDraw',\n",
       " 'NoTargetPieceWin',\n",
       " 'BishopComponent',\n",
       " 'InitialRandomPlacement',\n",
       " 'NoProgressEnd',\n",
       " 'StarShape',\n",
       " 'GroupDraw',\n",
       " 'KingComponent',\n",
       " 'ReachLossFrequency',\n",
       " 'SetValue',\n",
       " 'MancalaSixRows',\n",
       " 'SowBacktracking',\n",
       " 'LeapDecisionToEmpty',\n",
       " 'PushEffect',\n",
       " 'SlideDecisionToEnemy',\n",
       " 'ProposeEffect',\n",
       " 'CircleShape',\n",
       " 'MaxDistance',\n",
       " 'ThreeMensMorrisBoard',\n",
       " 'SlideDecisionToFriend',\n",
       " 'CaptureSequence',\n",
       " 'BackwardLeftDirection',\n",
       " 'ShogiComponent',\n",
       " 'EliminatePiecesDrawFrequency',\n",
       " 'Tile',\n",
       " 'NoOwnPiecesLoss',\n",
       " 'XiangqiComponent',\n",
       " 'InterveneCapture',\n",
       " 'LoopEnd',\n",
       " 'StrategoComponent',\n",
       " 'FromToDecisionEnemy',\n",
       " 'DiceD2',\n",
       " 'MancalaThreeRows',\n",
       " 'Piece',\n",
       " 'SwapPiecesDecision',\n",
       " 'PloyComponent',\n",
       " 'PenAndPaperStyle',\n",
       " 'CircleTiling',\n",
       " 'LoopWin',\n",
       " 'JanggiComponent',\n",
       " 'ShogiStyle',\n",
       " 'KintsBoard',\n",
       " 'ThreeMensMorrisBoardWithTwoTriangles',\n",
       " 'SurroundCaptureFrequency',\n",
       " 'ForwardRightDirection',\n",
       " 'JanggiStyle',\n",
       " 'SumDice',\n",
       " 'LoopEndFrequency',\n",
       " 'LoopWinFrequency',\n",
       " 'RookComponent',\n",
       " 'NoOwnPiecesWin',\n",
       " 'NoProgressDraw',\n",
       " 'Repetition',\n",
       " 'FillEnd',\n",
       " 'MancalaCircular',\n",
       " 'DirectionCapture',\n",
       " 'Checkmate',\n",
       " 'SetCount',\n",
       " 'PachisiBoard',\n",
       " 'ForwardLeftDirection',\n",
       " 'Flip',\n",
       " 'EliminatePiecesDraw',\n",
       " 'FortyStonesWithFourGapsBoard',\n",
       " 'AutoMove',\n",
       " 'SurroundCapture',\n",
       " 'LeapDecisionToEnemy',\n",
       " 'HopDecisionFriendToEmpty',\n",
       " 'LeapDecision',\n",
       " 'SetRotationFrequency',\n",
       " 'Cooperation',\n",
       " 'Team',\n",
       " 'SpiralShape',\n",
       " 'SpiralTiling',\n",
       " 'Boardless',\n",
       " 'Roll',\n",
       " 'SowCapture',\n",
       " 'DirectionCaptureFrequency',\n",
       " 'InterveneCaptureFrequency',\n",
       " 'PathExtent',\n",
       " 'Fill',\n",
       " 'RightwardsDirection',\n",
       " 'LeftwardsDirection',\n",
       " 'BackwardRightDirection',\n",
       " 'GroupLoss',\n",
       " 'LoopLoss',\n",
       " 'PathExtentEnd',\n",
       " 'PathExtentWin',\n",
       " 'PathExtentLoss',\n",
       " 'TerritoryWin',\n",
       " 'FillWin',\n",
       " 'ReachDraw',\n",
       " 'ReachDrawFrequency',\n",
       " 'VisitedSites']"
      ]
     },
     "execution_count": 15,
     "metadata": {},
     "output_type": "execute_result"
    }
   ],
   "source": [
    "f[f[\"importance\"] < 0.01][\"feature\"].tolist()"
   ]
  },
  {
   "cell_type": "code",
   "execution_count": 30,
   "metadata": {},
   "outputs": [
    {
     "data": {
      "text/html": [
       "<div>\n",
       "<style scoped>\n",
       "    .dataframe tbody tr th:only-of-type {\n",
       "        vertical-align: middle;\n",
       "    }\n",
       "\n",
       "    .dataframe tbody tr th {\n",
       "        vertical-align: top;\n",
       "    }\n",
       "\n",
       "    .dataframe thead th {\n",
       "        text-align: right;\n",
       "    }\n",
       "</style>\n",
       "<table border=\"1\" class=\"dataframe\">\n",
       "  <thead>\n",
       "    <tr style=\"text-align: right;\">\n",
       "      <th></th>\n",
       "      <th>Unnamed: 0</th>\n",
       "      <th>feature</th>\n",
       "      <th>importance</th>\n",
       "    </tr>\n",
       "  </thead>\n",
       "  <tbody>\n",
       "    <tr>\n",
       "      <th>0</th>\n",
       "      <td>597</td>\n",
       "      <td>src_AdvantageP1</td>\n",
       "      <td>9.871521</td>\n",
       "    </tr>\n",
       "    <tr>\n",
       "      <th>1</th>\n",
       "      <td>424</td>\n",
       "      <td>Balance</td>\n",
       "      <td>4.842335</td>\n",
       "    </tr>\n",
       "    <tr>\n",
       "      <th>2</th>\n",
       "      <td>591</td>\n",
       "      <td>src_p2_selection</td>\n",
       "      <td>4.008353</td>\n",
       "    </tr>\n",
       "    <tr>\n",
       "      <th>3</th>\n",
       "      <td>612</td>\n",
       "      <td>src_AdvantageBalanceRatio</td>\n",
       "      <td>3.788492</td>\n",
       "    </tr>\n",
       "    <tr>\n",
       "      <th>4</th>\n",
       "      <td>593</td>\n",
       "      <td>src_p2_playout</td>\n",
       "      <td>3.188467</td>\n",
       "    </tr>\n",
       "    <tr>\n",
       "      <th>5</th>\n",
       "      <td>596</td>\n",
       "      <td>src_p2_agent</td>\n",
       "      <td>3.068649</td>\n",
       "    </tr>\n",
       "    <tr>\n",
       "      <th>6</th>\n",
       "      <td>622</td>\n",
       "      <td>src_selection_exploration</td>\n",
       "      <td>2.258221</td>\n",
       "    </tr>\n",
       "    <tr>\n",
       "      <th>7</th>\n",
       "      <td>592</td>\n",
       "      <td>src_p2_exploration</td>\n",
       "      <td>1.821703</td>\n",
       "    </tr>\n",
       "    <tr>\n",
       "      <th>8</th>\n",
       "      <td>613</td>\n",
       "      <td>src_AdvantageTimeImpact</td>\n",
       "      <td>1.776630</td>\n",
       "    </tr>\n",
       "    <tr>\n",
       "      <th>9</th>\n",
       "      <td>417</td>\n",
       "      <td>DurationTurnsNotTimeouts</td>\n",
       "      <td>1.675810</td>\n",
       "    </tr>\n",
       "    <tr>\n",
       "      <th>10</th>\n",
       "      <td>626</td>\n",
       "      <td>src_exploration_selection</td>\n",
       "      <td>1.467649</td>\n",
       "    </tr>\n",
       "    <tr>\n",
       "      <th>11</th>\n",
       "      <td>614</td>\n",
       "      <td>src_OutcomeUniformityAdvantageP1</td>\n",
       "      <td>1.421508</td>\n",
       "    </tr>\n",
       "    <tr>\n",
       "      <th>12</th>\n",
       "      <td>586</td>\n",
       "      <td>MovesPerSecond</td>\n",
       "      <td>1.309657</td>\n",
       "    </tr>\n",
       "    <tr>\n",
       "      <th>13</th>\n",
       "      <td>589</td>\n",
       "      <td>src_p1_playout</td>\n",
       "      <td>1.301479</td>\n",
       "    </tr>\n",
       "    <tr>\n",
       "      <th>14</th>\n",
       "      <td>418</td>\n",
       "      <td>DecisionMoves</td>\n",
       "      <td>1.167376</td>\n",
       "    </tr>\n",
       "    <tr>\n",
       "      <th>15</th>\n",
       "      <td>607</td>\n",
       "      <td>ComplexityPerPlayout</td>\n",
       "      <td>1.070777</td>\n",
       "    </tr>\n",
       "    <tr>\n",
       "      <th>16</th>\n",
       "      <td>440</td>\n",
       "      <td>BranchingFactorMedian</td>\n",
       "      <td>1.037932</td>\n",
       "    </tr>\n",
       "    <tr>\n",
       "      <th>17</th>\n",
       "      <td>606</td>\n",
       "      <td>OverallComplexity</td>\n",
       "      <td>1.004317</td>\n",
       "    </tr>\n",
       "    <tr>\n",
       "      <th>18</th>\n",
       "      <td>587</td>\n",
       "      <td>src_p1_selection</td>\n",
       "      <td>0.984627</td>\n",
       "    </tr>\n",
       "    <tr>\n",
       "      <th>19</th>\n",
       "      <td>411</td>\n",
       "      <td>DrawFrequency</td>\n",
       "      <td>0.951724</td>\n",
       "    </tr>\n",
       "    <tr>\n",
       "      <th>20</th>\n",
       "      <td>605</td>\n",
       "      <td>ComplexityBalanceInteraction</td>\n",
       "      <td>0.908123</td>\n",
       "    </tr>\n",
       "    <tr>\n",
       "      <th>21</th>\n",
       "      <td>420</td>\n",
       "      <td>StateTreeComplexity</td>\n",
       "      <td>0.873349</td>\n",
       "    </tr>\n",
       "    <tr>\n",
       "      <th>22</th>\n",
       "      <td>601</td>\n",
       "      <td>ActionTimeEfficiency</td>\n",
       "      <td>0.870263</td>\n",
       "    </tr>\n",
       "    <tr>\n",
       "      <th>23</th>\n",
       "      <td>243</td>\n",
       "      <td>HopCaptureFrequency</td>\n",
       "      <td>0.853315</td>\n",
       "    </tr>\n",
       "    <tr>\n",
       "      <th>24</th>\n",
       "      <td>608</td>\n",
       "      <td>TurnsNotTimeoutsMoves</td>\n",
       "      <td>0.851153</td>\n",
       "    </tr>\n",
       "    <tr>\n",
       "      <th>25</th>\n",
       "      <td>428</td>\n",
       "      <td>OutcomeUniformity</td>\n",
       "      <td>0.828276</td>\n",
       "    </tr>\n",
       "    <tr>\n",
       "      <th>26</th>\n",
       "      <td>450</td>\n",
       "      <td>DecisionFactorMedian</td>\n",
       "      <td>0.804973</td>\n",
       "    </tr>\n",
       "    <tr>\n",
       "      <th>27</th>\n",
       "      <td>600</td>\n",
       "      <td>TurnsDurationEfficiency</td>\n",
       "      <td>0.743586</td>\n",
       "    </tr>\n",
       "    <tr>\n",
       "      <th>28</th>\n",
       "      <td>585</td>\n",
       "      <td>PlayoutsPerSecond</td>\n",
       "      <td>0.731639</td>\n",
       "    </tr>\n",
       "    <tr>\n",
       "      <th>29</th>\n",
       "      <td>623</td>\n",
       "      <td>src_selection_playout</td>\n",
       "      <td>0.728419</td>\n",
       "    </tr>\n",
       "    <tr>\n",
       "      <th>30</th>\n",
       "      <td>604</td>\n",
       "      <td>NormalizedGameTreeComplexity</td>\n",
       "      <td>0.695915</td>\n",
       "    </tr>\n",
       "    <tr>\n",
       "      <th>31</th>\n",
       "      <td>431</td>\n",
       "      <td>BoardSitesOccupiedMaximum</td>\n",
       "      <td>0.681282</td>\n",
       "    </tr>\n",
       "    <tr>\n",
       "      <th>32</th>\n",
       "      <td>633</td>\n",
       "      <td>src_playout_playout</td>\n",
       "      <td>0.657712</td>\n",
       "    </tr>\n",
       "    <tr>\n",
       "      <th>33</th>\n",
       "      <td>416</td>\n",
       "      <td>DurationTurnsStdDev</td>\n",
       "      <td>0.637134</td>\n",
       "    </tr>\n",
       "    <tr>\n",
       "      <th>34</th>\n",
       "      <td>419</td>\n",
       "      <td>GameTreeComplexity</td>\n",
       "      <td>0.606958</td>\n",
       "    </tr>\n",
       "    <tr>\n",
       "      <th>35</th>\n",
       "      <td>413</td>\n",
       "      <td>DurationActions</td>\n",
       "      <td>0.602822</td>\n",
       "    </tr>\n",
       "    <tr>\n",
       "      <th>36</th>\n",
       "      <td>471</td>\n",
       "      <td>PieceNumberMaximum</td>\n",
       "      <td>0.594751</td>\n",
       "    </tr>\n",
       "    <tr>\n",
       "      <th>37</th>\n",
       "      <td>602</td>\n",
       "      <td>StandardizedTurnsEfficiency</td>\n",
       "      <td>0.589873</td>\n",
       "    </tr>\n",
       "    <tr>\n",
       "      <th>38</th>\n",
       "      <td>434</td>\n",
       "      <td>BoardSitesOccupiedChangeSign</td>\n",
       "      <td>0.578720</td>\n",
       "    </tr>\n",
       "    <tr>\n",
       "      <th>39</th>\n",
       "      <td>628</td>\n",
       "      <td>src_exploration_playout</td>\n",
       "      <td>0.574334</td>\n",
       "    </tr>\n",
       "    <tr>\n",
       "      <th>40</th>\n",
       "      <td>447</td>\n",
       "      <td>BranchingFactorChangeMaxIncrease</td>\n",
       "      <td>0.555562</td>\n",
       "    </tr>\n",
       "    <tr>\n",
       "      <th>41</th>\n",
       "      <td>452</td>\n",
       "      <td>DecisionFactorVariance</td>\n",
       "      <td>0.527647</td>\n",
       "    </tr>\n",
       "    <tr>\n",
       "      <th>42</th>\n",
       "      <td>438</td>\n",
       "      <td>BoardSitesOccupiedMaxDecrease</td>\n",
       "      <td>0.522272</td>\n",
       "    </tr>\n",
       "    <tr>\n",
       "      <th>43</th>\n",
       "      <td>621</td>\n",
       "      <td>src_selection_selection</td>\n",
       "      <td>0.521195</td>\n",
       "    </tr>\n",
       "    <tr>\n",
       "      <th>44</th>\n",
       "      <td>470</td>\n",
       "      <td>PieceNumberMedian</td>\n",
       "      <td>0.520964</td>\n",
       "    </tr>\n",
       "    <tr>\n",
       "      <th>45</th>\n",
       "      <td>506</td>\n",
       "      <td>GreaterThanOrEqual</td>\n",
       "      <td>0.514202</td>\n",
       "    </tr>\n",
       "    <tr>\n",
       "      <th>46</th>\n",
       "      <td>598</td>\n",
       "      <td>PlayoutsMoves</td>\n",
       "      <td>0.503200</td>\n",
       "    </tr>\n",
       "    <tr>\n",
       "      <th>47</th>\n",
       "      <td>603</td>\n",
       "      <td>DurationToComplexityRatio</td>\n",
       "      <td>0.499713</td>\n",
       "    </tr>\n",
       "    <tr>\n",
       "      <th>48</th>\n",
       "      <td>71</td>\n",
       "      <td>NumVertices</td>\n",
       "      <td>0.499336</td>\n",
       "    </tr>\n",
       "    <tr>\n",
       "      <th>49</th>\n",
       "      <td>66</td>\n",
       "      <td>NumOuterSites</td>\n",
       "      <td>0.481299</td>\n",
       "    </tr>\n",
       "  </tbody>\n",
       "</table>\n",
       "</div>"
      ],
      "text/plain": [
       "    Unnamed: 0                           feature  importance\n",
       "0          597                   src_AdvantageP1    9.871521\n",
       "1          424                           Balance    4.842335\n",
       "2          591                  src_p2_selection    4.008353\n",
       "3          612         src_AdvantageBalanceRatio    3.788492\n",
       "4          593                    src_p2_playout    3.188467\n",
       "5          596                      src_p2_agent    3.068649\n",
       "6          622         src_selection_exploration    2.258221\n",
       "7          592                src_p2_exploration    1.821703\n",
       "8          613           src_AdvantageTimeImpact    1.776630\n",
       "9          417          DurationTurnsNotTimeouts    1.675810\n",
       "10         626         src_exploration_selection    1.467649\n",
       "11         614  src_OutcomeUniformityAdvantageP1    1.421508\n",
       "12         586                    MovesPerSecond    1.309657\n",
       "13         589                    src_p1_playout    1.301479\n",
       "14         418                     DecisionMoves    1.167376\n",
       "15         607              ComplexityPerPlayout    1.070777\n",
       "16         440             BranchingFactorMedian    1.037932\n",
       "17         606                 OverallComplexity    1.004317\n",
       "18         587                  src_p1_selection    0.984627\n",
       "19         411                     DrawFrequency    0.951724\n",
       "20         605      ComplexityBalanceInteraction    0.908123\n",
       "21         420               StateTreeComplexity    0.873349\n",
       "22         601              ActionTimeEfficiency    0.870263\n",
       "23         243               HopCaptureFrequency    0.853315\n",
       "24         608             TurnsNotTimeoutsMoves    0.851153\n",
       "25         428                 OutcomeUniformity    0.828276\n",
       "26         450              DecisionFactorMedian    0.804973\n",
       "27         600           TurnsDurationEfficiency    0.743586\n",
       "28         585                 PlayoutsPerSecond    0.731639\n",
       "29         623             src_selection_playout    0.728419\n",
       "30         604      NormalizedGameTreeComplexity    0.695915\n",
       "31         431         BoardSitesOccupiedMaximum    0.681282\n",
       "32         633               src_playout_playout    0.657712\n",
       "33         416               DurationTurnsStdDev    0.637134\n",
       "34         419                GameTreeComplexity    0.606958\n",
       "35         413                   DurationActions    0.602822\n",
       "36         471                PieceNumberMaximum    0.594751\n",
       "37         602       StandardizedTurnsEfficiency    0.589873\n",
       "38         434      BoardSitesOccupiedChangeSign    0.578720\n",
       "39         628           src_exploration_playout    0.574334\n",
       "40         447  BranchingFactorChangeMaxIncrease    0.555562\n",
       "41         452            DecisionFactorVariance    0.527647\n",
       "42         438     BoardSitesOccupiedMaxDecrease    0.522272\n",
       "43         621           src_selection_selection    0.521195\n",
       "44         470                 PieceNumberMedian    0.520964\n",
       "45         506                GreaterThanOrEqual    0.514202\n",
       "46         598                     PlayoutsMoves    0.503200\n",
       "47         603         DurationToComplexityRatio    0.499713\n",
       "48          71                       NumVertices    0.499336\n",
       "49          66                     NumOuterSites    0.481299"
      ]
     },
     "execution_count": 30,
     "metadata": {},
     "output_type": "execute_result"
    }
   ],
   "source": [
    "f.head(50)"
   ]
  },
  {
   "cell_type": "code",
   "execution_count": 15,
   "metadata": {},
   "outputs": [
    {
     "data": {
      "text/plain": [
       "(233234, 814)"
      ]
     },
     "execution_count": 15,
     "metadata": {},
     "output_type": "execute_result"
    }
   ],
   "source": [
    "df.shape"
   ]
  },
  {
   "cell_type": "code",
   "execution_count": 12,
   "metadata": {},
   "outputs": [],
   "source": [
    "dfs = df.copy()"
   ]
  },
  {
   "cell_type": "code",
   "execution_count": 13,
   "metadata": {},
   "outputs": [],
   "source": [
    "dft = dfs[(dfs[\"GameRulesetName\"] == df[\"GameRulesetName\"]) & (dfs[\"agent1\"] == df[\"agent2\"]) & (dfs[\"agent2\"] == df[\"agent1\"])]"
   ]
  },
  {
   "cell_type": "code",
   "execution_count": 14,
   "metadata": {},
   "outputs": [
    {
     "data": {
      "text/plain": [
       "(0, 814)"
      ]
     },
     "execution_count": 14,
     "metadata": {},
     "output_type": "execute_result"
    }
   ],
   "source": [
    "dft.shape"
   ]
  },
  {
   "cell_type": "code",
   "execution_count": 12,
   "metadata": {},
   "outputs": [
    {
     "data": {
      "text/plain": [
       "390"
      ]
     },
     "execution_count": 12,
     "metadata": {},
     "output_type": "execute_result"
    }
   ],
   "source": [
    "\n",
    "d1 = df[\"AdvantageP1\"]\n",
    "d2 = df[\"MoveDistanceMaxDecrease\"]\n",
    "d1.groupby(d2).rank(ascending=True, pct=True).nunique()"
   ]
  },
  {
   "cell_type": "code",
   "execution_count": 14,
   "metadata": {},
   "outputs": [],
   "source": [
    "import pickle\n",
    "\n",
    "with open('feature.pickle', 'rb') as file:\n",
    "    feature = pickle.load(file)"
   ]
  },
  {
   "cell_type": "code",
   "execution_count": 16,
   "metadata": {},
   "outputs": [
    {
     "data": {
      "text/plain": [
       "'GroupByThenRank'"
      ]
     },
     "execution_count": 16,
     "metadata": {},
     "output_type": "execute_result"
    }
   ],
   "source": [
    "feature[0].name"
   ]
  },
  {
   "cell_type": "code",
   "execution_count": 27,
   "metadata": {},
   "outputs": [],
   "source": [
    "import polars as pl\n",
    "\n",
    "sub = pl.read_parquet('/home/toefl/K/MCTS/submission.parquet')"
   ]
  },
  {
   "cell_type": "code",
   "execution_count": 28,
   "metadata": {},
   "outputs": [
    {
     "data": {
      "text/html": [
       "<div><style>\n",
       ".dataframe > thead > tr,\n",
       ".dataframe > tbody > tr {\n",
       "  text-align: right;\n",
       "  white-space: pre-wrap;\n",
       "}\n",
       "</style>\n",
       "<small>shape: (3, 2)</small><table border=\"1\" class=\"dataframe\"><thead><tr><th>Id</th><th>utility_agent1</th></tr><tr><td>i64</td><td>f64</td></tr></thead><tbody><tr><td>233234</td><td>0.179138</td></tr><tr><td>233236</td><td>0.030618</td></tr><tr><td>233235</td><td>-0.188421</td></tr></tbody></table></div>"
      ],
      "text/plain": [
       "shape: (3, 2)\n",
       "┌────────┬────────────────┐\n",
       "│ Id     ┆ utility_agent1 │\n",
       "│ ---    ┆ ---            │\n",
       "│ i64    ┆ f64            │\n",
       "╞════════╪════════════════╡\n",
       "│ 233234 ┆ 0.179138       │\n",
       "│ 233236 ┆ 0.030618       │\n",
       "│ 233235 ┆ -0.188421      │\n",
       "└────────┴────────────────┘"
      ]
     },
     "execution_count": 28,
     "metadata": {},
     "output_type": "execute_result"
    }
   ],
   "source": [
    "sub"
   ]
  },
  {
   "cell_type": "code",
   "execution_count": 18,
   "metadata": {},
   "outputs": [
    {
     "data": {
      "text/html": [
       "<div><style>\n",
       ".dataframe > thead > tr,\n",
       ".dataframe > tbody > tr {\n",
       "  text-align: right;\n",
       "  white-space: pre-wrap;\n",
       "}\n",
       "</style>\n",
       "<small>shape: (3, 2)</small><table border=\"1\" class=\"dataframe\"><thead><tr><th>Id</th><th>utility_agent1</th></tr><tr><td>i64</td><td>f64</td></tr></thead><tbody><tr><td>233234</td><td>0.185311</td></tr><tr><td>233236</td><td>0.014517</td></tr><tr><td>233235</td><td>-0.185311</td></tr></tbody></table></div>"
      ],
      "text/plain": [
       "shape: (3, 2)\n",
       "┌────────┬────────────────┐\n",
       "│ Id     ┆ utility_agent1 │\n",
       "│ ---    ┆ ---            │\n",
       "│ i64    ┆ f64            │\n",
       "╞════════╪════════════════╡\n",
       "│ 233234 ┆ 0.185311       │\n",
       "│ 233236 ┆ 0.014517       │\n",
       "│ 233235 ┆ -0.185311      │\n",
       "└────────┴────────────────┘"
      ]
     },
     "execution_count": 18,
     "metadata": {},
     "output_type": "execute_result"
    }
   ],
   "source": [
    "sub"
   ]
  },
  {
   "cell_type": "code",
   "execution_count": 6,
   "metadata": {},
   "outputs": [
    {
     "data": {
      "text/html": [
       "<div><style>\n",
       ".dataframe > thead > tr,\n",
       ".dataframe > tbody > tr {\n",
       "  text-align: right;\n",
       "  white-space: pre-wrap;\n",
       "}\n",
       "</style>\n",
       "<small>shape: (3, 2)</small><table border=\"1\" class=\"dataframe\"><thead><tr><th>Id</th><th>utility_agent1</th></tr><tr><td>i64</td><td>f64</td></tr></thead><tbody><tr><td>233234</td><td>0.023419</td></tr><tr><td>233235</td><td>-0.028186</td></tr><tr><td>233236</td><td>0.00731</td></tr></tbody></table></div>"
      ],
      "text/plain": [
       "shape: (3, 2)\n",
       "┌────────┬────────────────┐\n",
       "│ Id     ┆ utility_agent1 │\n",
       "│ ---    ┆ ---            │\n",
       "│ i64    ┆ f64            │\n",
       "╞════════╪════════════════╡\n",
       "│ 233234 ┆ 0.023419       │\n",
       "│ 233235 ┆ -0.028186      │\n",
       "│ 233236 ┆ 0.00731        │\n",
       "└────────┴────────────────┘"
      ]
     },
     "execution_count": 6,
     "metadata": {},
     "output_type": "execute_result"
    }
   ],
   "source": [
    "sub"
   ]
  },
  {
   "cell_type": "code",
   "execution_count": 4,
   "metadata": {},
   "outputs": [
    {
     "data": {
      "text/html": [
       "<div><style>\n",
       ".dataframe > thead > tr,\n",
       ".dataframe > tbody > tr {\n",
       "  text-align: right;\n",
       "  white-space: pre-wrap;\n",
       "}\n",
       "</style>\n",
       "<small>shape: (3, 2)</small><table border=\"1\" class=\"dataframe\"><thead><tr><th>Id</th><th>utility_agent1</th></tr><tr><td>i64</td><td>f64</td></tr></thead><tbody><tr><td>233234</td><td>0.191369</td></tr><tr><td>233236</td><td>0.023886</td></tr><tr><td>233235</td><td>-0.191369</td></tr></tbody></table></div>"
      ],
      "text/plain": [
       "shape: (3, 2)\n",
       "┌────────┬────────────────┐\n",
       "│ Id     ┆ utility_agent1 │\n",
       "│ ---    ┆ ---            │\n",
       "│ i64    ┆ f64            │\n",
       "╞════════╪════════════════╡\n",
       "│ 233234 ┆ 0.191369       │\n",
       "│ 233236 ┆ 0.023886       │\n",
       "│ 233235 ┆ -0.191369      │\n",
       "└────────┴────────────────┘"
      ]
     },
     "execution_count": 4,
     "metadata": {},
     "output_type": "execute_result"
    }
   ],
   "source": [
    "sub"
   ]
  },
  {
   "cell_type": "code",
   "execution_count": 7,
   "metadata": {},
   "outputs": [
    {
     "data": {
      "text/plain": [
       "72"
      ]
     },
     "execution_count": 7,
     "metadata": {},
     "output_type": "execute_result"
    }
   ],
   "source": [
    "df[\"agent1\"].nunique()"
   ]
  },
  {
   "cell_type": "code",
   "execution_count": 11,
   "metadata": {},
   "outputs": [],
   "source": [
    "df[\"agent\"] = df[\"agent1\"] + \"_\" + df[\"agent2\"] "
   ]
  },
  {
   "cell_type": "code",
   "execution_count": 14,
   "metadata": {},
   "outputs": [],
   "source": [
    "df[[\"agent\", \"utility_agent1\"]].groupby(\"agent\").mean().sort_values(by=\"utility_agent1\").to_csv('dataset/avg.csv')"
   ]
  },
  {
   "cell_type": "code",
   "execution_count": 15,
   "metadata": {},
   "outputs": [],
   "source": [
    "df[[\"GameRulesetName\", \"utility_agent1\"]].groupby(\"GameRulesetName\").mean().sort_values(by=\"utility_agent1\").to_csv('dataset/avg_game.csv')"
   ]
  },
  {
   "cell_type": "code",
   "execution_count": 26,
   "metadata": {},
   "outputs": [],
   "source": [
    "oof_labels = artifacts[\"catboost\"][\"oof_labels\"]\n",
    "oof_preds = artifacts[\"catboost\"][\"oof_preds\"]\n",
    "\n",
    "oof_preds_fixed = oof_preds.copy()\n",
    "oof_preds_fixed[df[\"GameTreeComplexity\"] == 0] = 2 * df[df[\"GameTreeComplexity\"] == 0][\"src_AdvantageP1\"] - 1"
   ]
  },
  {
   "cell_type": "code",
   "execution_count": 25,
   "metadata": {},
   "outputs": [
    {
     "data": {
      "text/plain": [
       "array([-0.46666667, -0.33333333, -0.06666667, -0.33333333, -0.33333333])"
      ]
     },
     "execution_count": 25,
     "metadata": {},
     "output_type": "execute_result"
    }
   ],
   "source": [
    "oof_labels[:5]"
   ]
  },
  {
   "cell_type": "code",
   "execution_count": 28,
   "metadata": {},
   "outputs": [
    {
     "data": {
      "text/plain": [
       "0.40186378136362766"
      ]
     },
     "execution_count": 28,
     "metadata": {},
     "output_type": "execute_result"
    }
   ],
   "source": [
    "mean_squared_error(oof_labels, oof_preds_fixed, squared=False)"
   ]
  },
  {
   "cell_type": "code",
   "execution_count": 20,
   "metadata": {},
   "outputs": [],
   "source": [
    "import pickle\n",
    "with open('solver_checkpoint.pickle', 'rb') as file:\n",
    "    data = pickle.load(file)"
   ]
  },
  {
   "cell_type": "code",
   "execution_count": 26,
   "metadata": {},
   "outputs": [],
   "source": [
    "from sklearn.metrics import mean_squared_error"
   ]
  },
  {
   "cell_type": "code",
   "execution_count": 28,
   "metadata": {},
   "outputs": [
    {
     "name": "stdout",
     "output_type": "stream",
     "text": [
      "RMSE: 0.20361155521938443\n",
      "RMSE: 0.40722311043876885\n"
     ]
    }
   ],
   "source": [
    "import numpy as np\n",
    "from sklearn.metrics import mean_squared_error\n",
    "\n",
    "# Generar predicciones y etiquetas aleatorias\n",
    "np.random.seed(42)  # para resultados reproducibles\n",
    "predicciones = np.random.rand(1000) / 2 + 1  # 10 predicciones aleatorias\n",
    "etiquetas = np.random.rand(1000) / 2 + 1    # 10 etiquetas aleatorias\n",
    "\n",
    "# Calcular el RMSE\n",
    "mse = mean_squared_error(etiquetas, predicciones)\n",
    "rmse = np.sqrt(mse)\n",
    "\n",
    "print(f'RMSE: {rmse}')\n",
    "\n",
    "mse = mean_squared_error(etiquetas * 2 - 1, predicciones* 2 - 1)\n",
    "rmse = np.sqrt(mse)\n",
    "\n",
    "print(f'RMSE: {rmse}')"
   ]
  },
  {
   "cell_type": "code",
   "execution_count": 25,
   "metadata": {},
   "outputs": [
    {
     "data": {
      "text/plain": [
       "dict_keys(['features', 'oof_score', 'models'])"
      ]
     },
     "execution_count": 25,
     "metadata": {},
     "output_type": "execute_result"
    }
   ],
   "source": [
    "data[\"catboost\"].keys()"
   ]
  },
  {
   "cell_type": "code",
   "execution_count": 22,
   "metadata": {},
   "outputs": [
    {
     "ename": "KeyError",
     "evalue": "'oof_label'",
     "output_type": "error",
     "traceback": [
      "\u001b[0;31m---------------------------------------------------------------------------\u001b[0m",
      "\u001b[0;31mKeyError\u001b[0m                                  Traceback (most recent call last)",
      "\u001b[0;32m<ipython-input-22-e3cb8b58d061>\u001b[0m in \u001b[0;36m<module>\u001b[0;34m\u001b[0m\n\u001b[0;32m----> 1\u001b[0;31m \u001b[0moof_labels\u001b[0m \u001b[0;34m=\u001b[0m \u001b[0mdata\u001b[0m\u001b[0;34m[\u001b[0m\u001b[0;34m\"catboost\"\u001b[0m\u001b[0;34m]\u001b[0m\u001b[0;34m[\u001b[0m\u001b[0;34m\"oof_label\"\u001b[0m\u001b[0;34m]\u001b[0m\u001b[0;34m\u001b[0m\u001b[0;34m\u001b[0m\u001b[0m\n\u001b[0m\u001b[1;32m      2\u001b[0m \u001b[0moof_preds\u001b[0m \u001b[0;34m=\u001b[0m \u001b[0mdata\u001b[0m\u001b[0;34m[\u001b[0m\u001b[0;34m\"catboost\"\u001b[0m\u001b[0;34m]\u001b[0m\u001b[0;34m[\u001b[0m\u001b[0;34m\"oof_preds\"\u001b[0m\u001b[0;34m]\u001b[0m\u001b[0;34m\u001b[0m\u001b[0;34m\u001b[0m\u001b[0m\n",
      "\u001b[0;31mKeyError\u001b[0m: 'oof_label'"
     ]
    }
   ],
   "source": [
    "oof_labels = data[\"catboost\"][\"oof_labels\"]\n",
    "oof_preds = data[\"catboost\"][\"oof_preds\"]"
   ]
  },
  {
   "cell_type": "code",
   "execution_count": 10,
   "metadata": {},
   "outputs": [],
   "source": [
    "slc = df[df[\"GameTreeComplexity\"] == 0][[\"AdvantageP1\", \"utility_agent1\"]]\n",
    "mse = abs(slc[\"AdvantageP1\"] - (slc[\"utility_agent1\"] + 1) / 2)"
   ]
  },
  {
   "cell_type": "code",
   "execution_count": 13,
   "metadata": {},
   "outputs": [
    {
     "data": {
      "text/plain": [
       "0.0384825327510917"
      ]
     },
     "execution_count": 13,
     "metadata": {},
     "output_type": "execute_result"
    }
   ],
   "source": [
    "mse.mean()"
   ]
  },
  {
   "cell_type": "code",
   "execution_count": 10,
   "metadata": {},
   "outputs": [],
   "source": [
    "for f in df.columns.tolist():\n",
    "    if 'src' in f:\n",
    "        print(f)"
   ]
  },
  {
   "cell_type": "code",
   "execution_count": 1,
   "metadata": {},
   "outputs": [
    {
     "ename": "NameError",
     "evalue": "name 'df' is not defined",
     "output_type": "error",
     "traceback": [
      "\u001b[0;31m---------------------------------------------------------------------------\u001b[0m",
      "\u001b[0;31mNameError\u001b[0m                                 Traceback (most recent call last)",
      "\u001b[0;32m<ipython-input-1-0a9861c7c804>\u001b[0m in \u001b[0;36m<module>\u001b[0;34m\u001b[0m\n\u001b[0;32m----> 1\u001b[0;31m \u001b[0mdf\u001b[0m\u001b[0;34m[\u001b[0m\u001b[0;34m\"utility_agent1\"\u001b[0m\u001b[0;34m]\u001b[0m\u001b[0;34m.\u001b[0m\u001b[0mnunique\u001b[0m\u001b[0;34m(\u001b[0m\u001b[0;34m)\u001b[0m\u001b[0;34m\u001b[0m\u001b[0;34m\u001b[0m\u001b[0m\n\u001b[0m",
      "\u001b[0;31mNameError\u001b[0m: name 'df' is not defined"
     ]
    }
   ],
   "source": [
    "df[\"utility_agent1\"].nunique()"
   ]
  },
  {
   "cell_type": "code",
   "execution_count": 13,
   "metadata": {},
   "outputs": [],
   "source": [
    "import pickle\n",
    "\n",
    "with open('feature.pickle', 'rb') as file:\n",
    "    feature = pickle.load(file)"
   ]
  },
  {
   "cell_type": "code",
   "execution_count": 15,
   "metadata": {},
   "outputs": [
    {
     "name": "stdout",
     "output_type": "stream",
     "text": [
      "15924\n"
     ]
    }
   ],
   "source": [
    "print(len(feature))"
   ]
  },
  {
   "cell_type": "code",
   "execution_count": 19,
   "metadata": {},
   "outputs": [],
   "source": [
    "import sys\n",
    "sys.path.append('/home/toefl/K/MCTS/dataset/')\n",
    "import kaggle_evaluation.mcts_inference_server"
   ]
  },
  {
   "cell_type": "code",
   "execution_count": null,
   "metadata": {},
   "outputs": [],
   "source": [
    "    self.model_paths=[]\n",
    "    self.tfidf_paths=[]\n",
    "\n",
    "    def train_model(self,):\n",
    "\n",
    "        X_train=self.CV_feats(X_train,mode='train',model_name=model_name,fold=fold)\n",
    "        X_valid=self.CV_feats(X_valid,mode='test',model_name=model_name,fold=fold)\n",
    "\n",
    "\n",
    "    def infer_model(self,test):\n",
    "        test=self.FE(test,mode='test')\n",
    "        test.drop(['GameRulesetName'],axis=1,inplace=True)\n",
    "        test_copy=self.CV_feats(test.copy(),mode='test',model_name=model_name,fold=fold)"
   ]
  },
  {
   "cell_type": "code",
   "execution_count": null,
   "metadata": {},
   "outputs": [],
   "source": [
    "        # m = {}\n",
    "        # for i, u in enumerate(Y.unique()):\n",
    "        #     m[u] = i\n",
    "        # Y = Y.map(m)"
   ]
  },
  {
   "cell_type": "code",
   "execution_count": null,
   "metadata": {},
   "outputs": [],
   "source": [
    "        # # Custom features.\n",
    "\n",
    "        # df = df.with_columns([\n",
    "        #     (pl.col('PlayoutsPerSecond') / (pl.col('MovesPerSecond') + 1e-15)).alias('Playouts/Moves'),\n",
    "        #     (pl.col('MovesPerSecond') / (pl.col('PlayoutsPerSecond') + 1e-15)).alias('EfficiencyPerPlayout'),\n",
    "        #     (pl.col('DurationActions') / (pl.col('DurationTurnsStdDev') + 1e-15)).alias('TurnsDurationEfficiency'),\n",
    "        #     (pl.col('DurationActions') / (pl.col('MovesPerSecond') + 1e-15)).alias('ActionTimeEfficiency'),\n",
    "        #     (pl.col('DurationTurnsStdDev') / (pl.col('DurationActions') + 1e-15)).alias('StandardizedTurnsEfficiency'),\n",
    "        #     (pl.col('DurationActions') / (pl.col('StateTreeComplexity') + 1e-15)).alias('DurationToComplexityRatio'),\n",
    "        #     (pl.col('GameTreeComplexity') / (pl.col('StateTreeComplexity') + 1e-15)).alias('NormalizedGameTreeComplexity'),\n",
    "        #     (pl.col('Balance') * pl.col('GameTreeComplexity')).alias('ComplexityBalanceInteraction'),\n",
    "        #     (pl.col('StateTreeComplexity') + pl.col('GameTreeComplexity')).alias('OverallComplexity'),\n",
    "        #     (pl.col('GameTreeComplexity') / (pl.col('PlayoutsPerSecond') + 1e-15)).alias('ComplexityPerPlayout'),\n",
    "        #     (pl.col('DurationTurnsNotTimeouts') / (pl.col('MovesPerSecond') + 1e-15)).alias('TurnsNotTimeouts/Moves'),\n",
    "        #     (pl.col('Timeouts') / (pl.col('DurationActions') + 1e-15)).alias('Timeouts/DurationActions'),\n",
    "        #     (pl.col('StepDecisionToEnemy') + pl.col('SlideDecisionToEnemy') + pl.col('HopDecisionMoreThanOne')).alias('ComplexDecisionRatio'),\n",
    "        #     (pl.col('StepDecisionToEnemy') + \n",
    "        #      pl.col('HopDecisionEnemyToEnemy') + \n",
    "        #      pl.col('HopDecisionFriendToEnemy') + \n",
    "        #      pl.col('SlideDecisionToEnemy')).alias('AggressiveActionsRatio'),\n",
    "\n",
    "        #     (pl.col('src_AdvantageP1') / (pl.col('Balance') + 1e-15)).alias('src_AdvantageBalanceRatio'),\n",
    "        #     (pl.col('src_AdvantageP1') / (pl.col('DurationActions') + 1e-15)).alias('src_AdvantageTimeImpact'),\n",
    "        #     (pl.col('OutcomeUniformity') / (pl.col('src_AdvantageP1') + 1e-15)).alias('src_OutcomeUniformity/AdvantageP1'),\n",
    "\n",
    "        #     (pl.col('tta_AdvantageP1') / (pl.col('Balance') + 1e-15)).alias('tta_AdvantageBalanceRatio'),\n",
    "        #     (pl.col('tta_AdvantageP1') / (pl.col('DurationActions') + 1e-15)).alias('tta_AdvantageTimeImpact'),\n",
    "        #     (pl.col('OutcomeUniformity') / (pl.col('tta_AdvantageP1') + 1e-15)).alias('tta_OutcomeUniformity/AdvantageP1'),\n",
    "        # ])"
   ]
  },
  {
   "cell_type": "code",
   "execution_count": null,
   "metadata": {},
   "outputs": [],
   "source": [
    "# Y_train = Y_train.astype(np.float64)\n",
    "#             X[src_columns].to_csv('Xtrain.csv')\n",
    "#             Y.to_csv('Ytrain.csv')\n",
    "\n",
    "#             print('here')\n",
    "\n",
    "#             ofe = OpenFE()\n",
    "#             features = ofe.fit(data=X_train, label=Y_train.astype(np.float64))\n",
    "#             print(features)\n",
    "#             train_x, _ = transform(X_train, X_valid, features)\n",
    "#             train_x.to_csv('features.csv')"
   ]
  },
  {
   "cell_type": "code",
   "execution_count": null,
   "metadata": {},
   "outputs": [],
   "source": [
    "    #   def ARI(txt):\n",
    "    #         characters = len(txt)\n",
    "    #         words = len(re.split(' |\\\\n|\\\\.|\\\\?|\\\\!|\\,', txt))\n",
    "    #         sentence = len(re.split('\\\\.|\\\\?|\\\\!', txt))\n",
    "    #         ari_score = 4.71*(characters/words)+0.5*(words/sentence)-21.43\n",
    "    #         return ari_score\n",
    "\n",
    "    #     def McAlpine_EFLAW(txt):\n",
    "    #         W = len(re.split(' |\\\\n|\\\\.|\\\\?|\\\\!|\\,', txt))\n",
    "    #         S = len(re.split('\\\\.|\\\\?|\\\\!', txt))\n",
    "    #         mcalpine_eflaw_score = (W+S*W)/S\n",
    "    #         return mcalpine_eflaw_score\n",
    "        \n",
    "    #     def CLRI(txt):\n",
    "    #         characters = len(txt)\n",
    "    #         words = len(re.split(' |\\\\n|\\\\.|\\\\?|\\\\!|\\,', txt))\n",
    "    #         sentence = len(re.split('\\\\.|\\\\?|\\\\!', txt))\n",
    "    #         L = 100*characters/words\n",
    "    #         S = 100*sentence/words\n",
    "    #         clri_score = 0.0588*L-0.296*S-15.8\n",
    "    #         return clri_score\n",
    "        \n",
    "    #     def drop_gamename(rule):\n",
    "    #         rule = rule[len('(game \"'):]\n",
    "    #         for i in range(len(rule)):\n",
    "    #             if rule[i] == '\"':\n",
    "    #                 return rule[i+1:]\n",
    "                \n",
    "    #     def get_player(rule):\n",
    "    #         player = ''\n",
    "    #         stack = []\n",
    "    #         for i in range(len(rule)):\n",
    "    #             player += rule[i]\n",
    "    #             if rule[i] in ['(', '{']:\n",
    "    #                 stack.append(rule[i])\n",
    "    #             elif rule[i] in [')', '}']:\n",
    "    #                 stack = stack[:-1]\n",
    "    #                 if len(stack) == 0:\n",
    "    #                     return player"
   ]
  },
  {
   "cell_type": "code",
   "execution_count": null,
   "metadata": {},
   "outputs": [],
   "source": [
    "# Player position (positive / negative).\n",
    "\n",
    "        # total_agent = ['MCTS-ProgressiveHistory-0.1-MAST-false', 'MCTS-ProgressiveHistory-0.1-MAST-true', 'MCTS-ProgressiveHistory-0.1-NST-false', 'MCTS-ProgressiveHistory-0.1-NST-true', 'MCTS-ProgressiveHistory-0.1-Random200-false', 'MCTS-ProgressiveHistory-0.1-Random200-true', 'MCTS-ProgressiveHistory-0.6-MAST-false', 'MCTS-ProgressiveHistory-0.6-MAST-true', 'MCTS-ProgressiveHistory-0.6-NST-false', 'MCTS-ProgressiveHistory-0.6-NST-true', 'MCTS-ProgressiveHistory-0.6-Random200-false', 'MCTS-ProgressiveHistory-0.6-Random200-true', 'MCTS-ProgressiveHistory-1.41421356237-MAST-false', 'MCTS-ProgressiveHistory-1.41421356237-MAST-true', 'MCTS-ProgressiveHistory-1.41421356237-NST-false', 'MCTS-ProgressiveHistory-1.41421356237-NST-true', 'MCTS-ProgressiveHistory-1.41421356237-Random200-false', 'MCTS-ProgressiveHistory-1.41421356237-Random200-true', 'MCTS-UCB1-0.1-MAST-false', 'MCTS-UCB1-0.1-MAST-true', 'MCTS-UCB1-0.1-NST-false', 'MCTS-UCB1-0.1-NST-true', 'MCTS-UCB1-0.1-Random200-false', 'MCTS-UCB1-0.1-Random200-true', 'MCTS-UCB1-0.6-MAST-false', 'MCTS-UCB1-0.6-MAST-true', 'MCTS-UCB1-0.6-NST-false', 'MCTS-UCB1-0.6-NST-true', 'MCTS-UCB1-0.6-Random200-false', 'MCTS-UCB1-0.6-Random200-true', 'MCTS-UCB1-1.41421356237-MAST-false', 'MCTS-UCB1-1.41421356237-MAST-true', 'MCTS-UCB1-1.41421356237-NST-false', 'MCTS-UCB1-1.41421356237-NST-true', 'MCTS-UCB1-1.41421356237-Random200-false', 'MCTS-UCB1-1.41421356237-Random200-true', 'MCTS-UCB1GRAVE-0.1-MAST-false', 'MCTS-UCB1GRAVE-0.1-MAST-true', 'MCTS-UCB1GRAVE-0.1-NST-false', 'MCTS-UCB1GRAVE-0.1-NST-true', 'MCTS-UCB1GRAVE-0.1-Random200-false', 'MCTS-UCB1GRAVE-0.1-Random200-true', 'MCTS-UCB1GRAVE-0.6-MAST-false', 'MCTS-UCB1GRAVE-0.6-MAST-true', 'MCTS-UCB1GRAVE-0.6-NST-false', 'MCTS-UCB1GRAVE-0.6-NST-true', 'MCTS-UCB1GRAVE-0.6-Random200-false', 'MCTS-UCB1GRAVE-0.6-Random200-true', 'MCTS-UCB1GRAVE-1.41421356237-MAST-false', 'MCTS-UCB1GRAVE-1.41421356237-MAST-true', 'MCTS-UCB1GRAVE-1.41421356237-NST-false', 'MCTS-UCB1GRAVE-1.41421356237-NST-true', 'MCTS-UCB1GRAVE-1.41421356237-Random200-false', 'MCTS-UCB1GRAVE-1.41421356237-Random200-true', 'MCTS-UCB1Tuned-0.1-MAST-false', 'MCTS-UCB1Tuned-0.1-MAST-true', 'MCTS-UCB1Tuned-0.1-NST-false', 'MCTS-UCB1Tuned-0.1-NST-true', 'MCTS-UCB1Tuned-0.1-Random200-false', 'MCTS-UCB1Tuned-0.1-Random200-true', 'MCTS-UCB1Tuned-0.6-MAST-false', 'MCTS-UCB1Tuned-0.6-MAST-true', 'MCTS-UCB1Tuned-0.6-NST-false', 'MCTS-UCB1Tuned-0.6-NST-true', 'MCTS-UCB1Tuned-0.6-Random200-false', 'MCTS-UCB1Tuned-0.6-Random200-true', 'MCTS-UCB1Tuned-1.41421356237-MAST-false', 'MCTS-UCB1Tuned-1.41421356237-MAST-true', 'MCTS-UCB1Tuned-1.41421356237-NST-false', 'MCTS-UCB1Tuned-1.41421356237-NST-true', 'MCTS-UCB1Tuned-1.41421356237-Random200-false', 'MCTS-UCB1Tuned-1.41421356237-Random200-true']\n",
    "        \n",
    "        # agent1, agent2 = df['src_p1_agent'].values, df['src_p2_agent'].values\n",
    "        # for i in range(len(total_agent)):\n",
    "        #     value = np.zeros(len(df))\n",
    "        #     for j in range(len(df)):\n",
    "        #         if agent1[j] == total_agent[i]:\n",
    "        #             value[j] += 1\n",
    "        #         elif agent2[j] == total_agent[i]:\n",
    "        #             value[j] -= 1\n",
    "        #     df[f'src_agent_{total_agent[i]}'] = value\n",
    "        \n",
    "        # agent1, agent2 = df['tta_p1_agent'].values, df['tta_p2_agent'].values\n",
    "        # for i in range(len(total_agent)):\n",
    "        #     value = np.zeros(len(df))\n",
    "        #     for j in range(len(df)):\n",
    "        #         if agent1[j] == total_agent[i]:\n",
    "        #             value[j] += 1\n",
    "        #         elif agent2[j] == total_agent[i]:\n",
    "        #             value[j] -= 1\n",
    "        #     df[f'tta_agent_{total_agent[i]}'] = value\n",
    "\n",
    "        # # One-hot encoding.\n",
    "\n",
    "        # onehot_cols = [['NumOffDiagonalDirections', [0.0, 4.82, 2.0, 5.18, 3.08, 0.06]], ['NumLayers', [1, 0, 4, 5]], ['NumPhasesBoard', [3, 2, 1, 5, 4]], ['NumContainers', [1, 4, 3, 2]], ['NumDice', [0, 2, 1, 4, 6, 3, 5, 7]], ['ProposeDecisionFrequency', [0.0, 0.05, 0.01]], ['PromotionDecisionFrequency', [0.0, 0.01, 0.03, 0.02, 0.11, 0.05, 0.04]], ['SlideDecisionToFriendFrequency', [0.0, 0.19, 0.06]], ['LeapDecisionToEnemyFrequency', [0.0, 0.04, 0.01, 0.02, 0.07, 0.03, 0.14, 0.08]], ['HopDecisionFriendToFriendFrequency', [0.0, 0.13, 0.09]], ['HopDecisionEnemyToEnemyFrequency', [0.0, 0.01, 0.2, 0.03]], ['HopDecisionFriendToEnemyFrequency', [0.0, 0.01, 0.09, 0.25, 0.02]], ['FromToDecisionFrequency', [0.0, 0.38, 1.0, 0.31, 0.94, 0.67]], ['ProposeEffectFrequency', [0.0, 0.01, 0.03]], ['PushEffectFrequency', [0.0, 0.5, 0.96, 0.25]], ['FlipFrequency', [0.0, 0.87, 1.0, 0.96]], ['SetCountFrequency', [0.0, 0.62, 0.54, 0.02]], ['DirectionCaptureFrequency', [0.0, 0.55, 0.54]], ['EncloseCaptureFrequency', [0.0, 0.08, 0.1, 0.07, 0.12, 0.02, 0.09]], ['InterveneCaptureFrequency', [0.0, 0.01, 0.14, 0.04]], ['SurroundCaptureFrequency', [0.0, 0.01, 0.03, 0.02]], ['NumPlayPhase', [1, 2, 3, 4, 5, 6, 7, 8]], ['LineLossFrequency', [0.0, 0.96, 0.87, 0.46, 0.26, 0.88, 0.94]], ['ConnectionEndFrequency', [0.0, 0.19, 1.0, 0.23, 0.94, 0.35, 0.97]], ['ConnectionLossFrequency', [0.0, 0.54, 0.78]], ['GroupEndFrequency', [0.0, 1.0, 0.11, 0.79]], ['GroupWinFrequency', [0.0, 0.11, 1.0]], ['LoopEndFrequency', [0.0, 0.14, 0.66]], ['LoopWinFrequency', [0.0, 0.14, 0.66]], ['PatternEndFrequency', [0.0, 0.63, 0.35]], ['PatternWinFrequency', [0.0, 0.63, 0.35]], ['NoTargetPieceWinFrequency', [0.0, 0.72, 0.77, 0.95, 0.32, 1.0]], ['EliminatePiecesLossFrequency', [0.0, 0.85, 0.96, 0.68]], ['EliminatePiecesDrawFrequency', [0.0, 0.03, 0.91, 1.0, 0.36, 0.86]], ['NoOwnPiecesLossFrequency', [0.0, 1.0, 0.68]], ['FillEndFrequency', [0.0, 1.0, 0.04, 0.01, 0.99, 0.72]], ['FillWinFrequency', [0.0, 1.0, 0.04, 0.01, 0.99]], ['ReachDrawFrequency', [0.0, 0.9, 0.98]], ['ScoringLossFrequency', [0.0, 0.6, 0.62]], ['NoMovesLossFrequency', [0.0, 1.0, 0.13, 0.06]], ['NoMovesDrawFrequency', [0.0, 0.01, 0.04, 0.03, 0.22]], ['BoardSitesOccupiedChangeNumTimes', [0.0, 0.06, 0.42, 0.12, 0.14, 0.94]], ['BranchingFactorChangeNumTimesn', [0.0, 0.3, 0.02, 0.07, 0.04, 0.13, 0.01, 0.21, 0.03]], ['PieceNumberChangeNumTimes', [0.0, 0.06, 0.42, 0.12, 0.14, 1.0]], ['src_p1_selection', ['ProgressiveHistory', 'UCB1', 'UCB1GRAVE', 'UCB1Tuned']], ['src_p2_selection', ['ProgressiveHistory', 'UCB1GRAVE', 'UCB1', 'UCB1Tuned']], ['src_p1_exploration', ['0.1', '0.6', '1.41421356237']], ['src_p2_exploration', ['0.6', '0.1', '1.41421356237']], ['src_p1_playout', ['MAST', 'NST', 'Random200']], ['src_p2_playout', ['Random200', 'NST', 'MAST']]]\n",
    "        # for col, unique in onehot_cols:\n",
    "        #     for u in unique:\n",
    "        #         df[f'{col}_{u}'] = (df[col] == u).astype(np.int8)\n",
    "        #         if 'src' in col:\n",
    "        #             tta_col = col.replace('src', 'tta')\n",
    "        #             df[f'{tta_col}_{u}'] = (df[col] == u).astype(np.int8)\n",
    "\n",
    "        # Drop game's name from the rules.\n",
    "\n",
    "        # df['LudRules'] = df['LudRules'].apply(lambda x: drop_gamename(x))\n",
    "\n",
    "        # # Get player.\n",
    "\n",
    "        # df['player'] = df['LudRules'].apply(lambda rule: get_player(rule))\n",
    "        # df['player_len'] = df['player'].apply(len)\n",
    "        # df['LudRules'] = [rule[len(player):] for player, rule in zip(\n",
    "        #     df['player'], df['LudRules'])]\n",
    "        # df = df.drop(['player'], axis=1)\n",
    "\n",
    "        # # Rules parcing.\n",
    "\n",
    "        # for rule in ['EnglishRules', 'LudRules']:\n",
    "        #     df[rule + \"_ARI\"] = df[rule].apply(lambda x: ARI(x))\n",
    "        #     df[rule + \"CLRI\"] = df[rule].apply(lambda x: CLRI(x))\n",
    "        #     df[rule + \"McAlpine_EFLAW\"] = df[rule].apply(lambda x: McAlpine_EFLAW(x))\n",
    "\n",
    "        # # External features.\n",
    "\n",
    "        # df['PlayoutsPerSecond/MovesPerSecond'] = df['PlayoutsPerSecond'] / df['MovesPerSecond']"
   ]
  }
 ],
 "metadata": {
  "kernelspec": {
   "display_name": "original",
   "language": "python",
   "name": "python3"
  },
  "language_info": {
   "codemirror_mode": {
    "name": "ipython",
    "version": 3
   },
   "file_extension": ".py",
   "mimetype": "text/x-python",
   "name": "python",
   "nbconvert_exporter": "python",
   "pygments_lexer": "ipython3",
   "version": "3.8.12"
  },
  "orig_nbformat": 4,
  "vscode": {
   "interpreter": {
    "hash": "60c31336e3f10c88a4c0fe5613a070662bd63d2485ebc0592b36889f41693b04"
   }
  }
 },
 "nbformat": 4,
 "nbformat_minor": 2
}
