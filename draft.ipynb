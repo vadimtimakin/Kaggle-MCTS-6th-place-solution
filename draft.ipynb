{
 "cells": [
  {
   "cell_type": "code",
   "execution_count": 47,
   "metadata": {},
   "outputs": [],
   "source": [
    "import pandas as pd\n",
    "\n",
    "df = pd.read_csv('/home/toefl/K/MCTS/dataset/train.csv')"
   ]
  },
  {
   "cell_type": "code",
   "execution_count": 48,
   "metadata": {},
   "outputs": [],
   "source": [
    "df = df[df[\"LudRules\"].apply(lambda x: \"start\" in x)]"
   ]
  },
  {
   "cell_type": "code",
   "execution_count": 50,
   "metadata": {},
   "outputs": [
    {
     "data": {
      "text/plain": [
       "'(game \"1D Chess\" (players 2) (equipment { (board (rectangle 1 8)) (piece \"Rook\" Each (move Slide Orthogonal (to if:(is Enemy (who at:(to))) (apply (remove (to)))) ) ) (piece \"King\" Each (move Step (to if:(not (is Friend (who at:(to)))) (apply (if (is Enemy (who at:(to))) (remove (to)))) ) ) ) (piece \"Knight\" Each (move Leap { { F F } } (to if:(not (is Friend (who at:(to)))) (apply (if (is Enemy (who at:(to))) (remove (to)))) ) ) ) } ) (rules (start { (place \"Rook1\" coord:\"C1\") (place \"Knight1\" coord:\"B1\") (place \"King1\" coord:\"A1\") (place \"Rook2\" coord:\"F1\") (place \"Knight2\" coord:\"G1\") (place \"King2\" coord:\"H1\") } ) (play (do (forEach Piece) ifAfterwards:(not (is Threatened (id \"King\" Mover))) ) ) (end { (if (and (is Threatened (id \"King\" Next)) (not (can Move (do (forEach Piece Next) ifAfterwards:(not (is Threatened (id \"King\" Next)) ) ) ) ) ) (result Mover Win) ) (if (or (no Moves Mover) (= (counter) 100)) (result Mover Draw) ) } ) ) )'"
      ]
     },
     "execution_count": 50,
     "metadata": {},
     "output_type": "execute_result"
    }
   ],
   "source": [
    "df[\"LudRules\"].tolist()[10]"
   ]
  },
  {
   "cell_type": "code",
   "execution_count": 21,
   "metadata": {},
   "outputs": [
    {
     "data": {
      "text/plain": [
       "Series([], dtype: int64)"
      ]
     },
     "execution_count": 21,
     "metadata": {},
     "output_type": "execute_result"
    }
   ],
   "source": [
    "df.value_counts()"
   ]
  },
  {
   "cell_type": "code",
   "execution_count": 16,
   "metadata": {},
   "outputs": [],
   "source": [
    "f = pd.read_csv('/home/toefl/K/MCTS/dataset/feature_importance.csv')"
   ]
  },
  {
   "cell_type": "code",
   "execution_count": 52,
   "metadata": {},
   "outputs": [
    {
     "data": {
      "text/html": [
       "<div>\n",
       "<style scoped>\n",
       "    .dataframe tbody tr th:only-of-type {\n",
       "        vertical-align: middle;\n",
       "    }\n",
       "\n",
       "    .dataframe tbody tr th {\n",
       "        vertical-align: top;\n",
       "    }\n",
       "\n",
       "    .dataframe thead th {\n",
       "        text-align: right;\n",
       "    }\n",
       "</style>\n",
       "<table border=\"1\" class=\"dataframe\">\n",
       "  <thead>\n",
       "    <tr style=\"text-align: right;\">\n",
       "      <th></th>\n",
       "      <th>Unnamed: 0</th>\n",
       "      <th>feature</th>\n",
       "      <th>importance</th>\n",
       "    </tr>\n",
       "  </thead>\n",
       "  <tbody>\n",
       "    <tr>\n",
       "      <th>457</th>\n",
       "      <td>587</td>\n",
       "      <td>src_AdvantageP1</td>\n",
       "      <td>0.019873</td>\n",
       "    </tr>\n",
       "  </tbody>\n",
       "</table>\n",
       "</div>"
      ],
      "text/plain": [
       "     Unnamed: 0          feature  importance\n",
       "457         587  src_AdvantageP1    0.019873"
      ]
     },
     "execution_count": 52,
     "metadata": {},
     "output_type": "execute_result"
    }
   ],
   "source": [
    "f[f[\"feature\"] == \"src_AdvantageP1\"]"
   ]
  },
  {
   "cell_type": "code",
   "execution_count": 2,
   "metadata": {},
   "outputs": [],
   "source": [
    "import pickle\n",
    "with open('catcols.pickle', 'rb') as file:\n",
    "    catcols = pickle.load(file)"
   ]
  },
  {
   "cell_type": "code",
   "execution_count": 3,
   "metadata": {},
   "outputs": [
    {
     "name": "stdout",
     "output_type": "stream",
     "text": [
      "['src_p1_selection', 'src_p1_exploration', 'src_p1_playout', 'src_p1_bounds', 'src_p2_selection', 'src_p2_exploration', 'src_p2_playout', 'src_p2_bounds', 'src_agent1', 'src_agent2']\n"
     ]
    }
   ],
   "source": [
    "print(catcols)"
   ]
  },
  {
   "cell_type": "code",
   "execution_count": null,
   "metadata": {},
   "outputs": [],
   "source": [
    "            # X_train = X_train.rename(columns={\"src_Balance\": \"Balance\"})\n",
    "            # X_valid_src = X_valid_src.rename(columns={\"src_Balance\": \"Balance\"})\n",
    "            # X_valid_tta = X_valid_tta.rename(columns={\"src_Balance\": \"Balance\"})"
   ]
  },
  {
   "cell_type": "code",
   "execution_count": 22,
   "metadata": {},
   "outputs": [
    {
     "data": {
      "text/html": [
       "<div>\n",
       "<style scoped>\n",
       "    .dataframe tbody tr th:only-of-type {\n",
       "        vertical-align: middle;\n",
       "    }\n",
       "\n",
       "    .dataframe tbody tr th {\n",
       "        vertical-align: top;\n",
       "    }\n",
       "\n",
       "    .dataframe thead th {\n",
       "        text-align: right;\n",
       "    }\n",
       "</style>\n",
       "<table border=\"1\" class=\"dataframe\">\n",
       "  <thead>\n",
       "    <tr style=\"text-align: right;\">\n",
       "      <th></th>\n",
       "      <th>Unnamed: 0</th>\n",
       "      <th>feature</th>\n",
       "      <th>importance</th>\n",
       "    </tr>\n",
       "  </thead>\n",
       "  <tbody>\n",
       "    <tr>\n",
       "      <th>0</th>\n",
       "      <td>592</td>\n",
       "      <td>src_p2_selection</td>\n",
       "      <td>4.742315</td>\n",
       "    </tr>\n",
       "    <tr>\n",
       "      <th>1</th>\n",
       "      <td>588</td>\n",
       "      <td>src_p1_selection</td>\n",
       "      <td>4.573575</td>\n",
       "    </tr>\n",
       "    <tr>\n",
       "      <th>2</th>\n",
       "      <td>594</td>\n",
       "      <td>src_p2_playout</td>\n",
       "      <td>3.547631</td>\n",
       "    </tr>\n",
       "    <tr>\n",
       "      <th>3</th>\n",
       "      <td>590</td>\n",
       "      <td>src_p1_playout</td>\n",
       "      <td>3.256589</td>\n",
       "    </tr>\n",
       "    <tr>\n",
       "      <th>4</th>\n",
       "      <td>710</td>\n",
       "      <td>autoFE_f_112</td>\n",
       "      <td>2.957773</td>\n",
       "    </tr>\n",
       "    <tr>\n",
       "      <th>5</th>\n",
       "      <td>596</td>\n",
       "      <td>src_agent1</td>\n",
       "      <td>2.612285</td>\n",
       "    </tr>\n",
       "    <tr>\n",
       "      <th>6</th>\n",
       "      <td>597</td>\n",
       "      <td>src_agent2</td>\n",
       "      <td>2.345239</td>\n",
       "    </tr>\n",
       "    <tr>\n",
       "      <th>7</th>\n",
       "      <td>417</td>\n",
       "      <td>DurationTurnsNotTimeouts</td>\n",
       "      <td>2.318736</td>\n",
       "    </tr>\n",
       "    <tr>\n",
       "      <th>8</th>\n",
       "      <td>585</td>\n",
       "      <td>PlayoutsPerSecond</td>\n",
       "      <td>1.824766</td>\n",
       "    </tr>\n",
       "    <tr>\n",
       "      <th>9</th>\n",
       "      <td>1066</td>\n",
       "      <td>autoFE_f_468</td>\n",
       "      <td>1.766051</td>\n",
       "    </tr>\n",
       "    <tr>\n",
       "      <th>10</th>\n",
       "      <td>424</td>\n",
       "      <td>Balance</td>\n",
       "      <td>1.552733</td>\n",
       "    </tr>\n",
       "    <tr>\n",
       "      <th>11</th>\n",
       "      <td>600</td>\n",
       "      <td>autoFE_f_2</td>\n",
       "      <td>1.498745</td>\n",
       "    </tr>\n",
       "    <tr>\n",
       "      <th>12</th>\n",
       "      <td>984</td>\n",
       "      <td>autoFE_f_386</td>\n",
       "      <td>1.449645</td>\n",
       "    </tr>\n",
       "    <tr>\n",
       "      <th>13</th>\n",
       "      <td>419</td>\n",
       "      <td>GameTreeComplexity</td>\n",
       "      <td>1.420160</td>\n",
       "    </tr>\n",
       "    <tr>\n",
       "      <th>14</th>\n",
       "      <td>586</td>\n",
       "      <td>MovesPerSecond</td>\n",
       "      <td>1.103320</td>\n",
       "    </tr>\n",
       "    <tr>\n",
       "      <th>15</th>\n",
       "      <td>418</td>\n",
       "      <td>DecisionMoves</td>\n",
       "      <td>1.082721</td>\n",
       "    </tr>\n",
       "    <tr>\n",
       "      <th>16</th>\n",
       "      <td>604</td>\n",
       "      <td>autoFE_f_6</td>\n",
       "      <td>0.980785</td>\n",
       "    </tr>\n",
       "    <tr>\n",
       "      <th>17</th>\n",
       "      <td>955</td>\n",
       "      <td>autoFE_f_357</td>\n",
       "      <td>0.937732</td>\n",
       "    </tr>\n",
       "    <tr>\n",
       "      <th>18</th>\n",
       "      <td>931</td>\n",
       "      <td>autoFE_f_333</td>\n",
       "      <td>0.932028</td>\n",
       "    </tr>\n",
       "    <tr>\n",
       "      <th>19</th>\n",
       "      <td>413</td>\n",
       "      <td>DurationActions</td>\n",
       "      <td>0.910299</td>\n",
       "    </tr>\n",
       "    <tr>\n",
       "      <th>20</th>\n",
       "      <td>792</td>\n",
       "      <td>autoFE_f_194</td>\n",
       "      <td>0.871404</td>\n",
       "    </tr>\n",
       "    <tr>\n",
       "      <th>21</th>\n",
       "      <td>657</td>\n",
       "      <td>autoFE_f_59</td>\n",
       "      <td>0.868332</td>\n",
       "    </tr>\n",
       "    <tr>\n",
       "      <th>22</th>\n",
       "      <td>411</td>\n",
       "      <td>DrawFrequency</td>\n",
       "      <td>0.843980</td>\n",
       "    </tr>\n",
       "    <tr>\n",
       "      <th>23</th>\n",
       "      <td>420</td>\n",
       "      <td>StateTreeComplexity</td>\n",
       "      <td>0.836203</td>\n",
       "    </tr>\n",
       "    <tr>\n",
       "      <th>24</th>\n",
       "      <td>428</td>\n",
       "      <td>OutcomeUniformity</td>\n",
       "      <td>0.754272</td>\n",
       "    </tr>\n",
       "    <tr>\n",
       "      <th>25</th>\n",
       "      <td>450</td>\n",
       "      <td>DecisionFactorMedian</td>\n",
       "      <td>0.693786</td>\n",
       "    </tr>\n",
       "    <tr>\n",
       "      <th>26</th>\n",
       "      <td>470</td>\n",
       "      <td>PieceNumberMedian</td>\n",
       "      <td>0.648348</td>\n",
       "    </tr>\n",
       "    <tr>\n",
       "      <th>27</th>\n",
       "      <td>780</td>\n",
       "      <td>autoFE_f_182</td>\n",
       "      <td>0.618234</td>\n",
       "    </tr>\n",
       "    <tr>\n",
       "      <th>28</th>\n",
       "      <td>243</td>\n",
       "      <td>HopCaptureFrequency</td>\n",
       "      <td>0.605724</td>\n",
       "    </tr>\n",
       "    <tr>\n",
       "      <th>29</th>\n",
       "      <td>414</td>\n",
       "      <td>DurationMoves</td>\n",
       "      <td>0.574485</td>\n",
       "    </tr>\n",
       "    <tr>\n",
       "      <th>30</th>\n",
       "      <td>440</td>\n",
       "      <td>BranchingFactorMedian</td>\n",
       "      <td>0.571864</td>\n",
       "    </tr>\n",
       "    <tr>\n",
       "      <th>31</th>\n",
       "      <td>471</td>\n",
       "      <td>PieceNumberMaximum</td>\n",
       "      <td>0.544227</td>\n",
       "    </tr>\n",
       "    <tr>\n",
       "      <th>32</th>\n",
       "      <td>772</td>\n",
       "      <td>autoFE_f_174</td>\n",
       "      <td>0.493970</td>\n",
       "    </tr>\n",
       "    <tr>\n",
       "      <th>33</th>\n",
       "      <td>951</td>\n",
       "      <td>autoFE_f_353</td>\n",
       "      <td>0.477659</td>\n",
       "    </tr>\n",
       "    <tr>\n",
       "      <th>34</th>\n",
       "      <td>926</td>\n",
       "      <td>autoFE_f_328</td>\n",
       "      <td>0.473029</td>\n",
       "    </tr>\n",
       "    <tr>\n",
       "      <th>35</th>\n",
       "      <td>431</td>\n",
       "      <td>BoardSitesOccupiedMaximum</td>\n",
       "      <td>0.472983</td>\n",
       "    </tr>\n",
       "    <tr>\n",
       "      <th>36</th>\n",
       "      <td>752</td>\n",
       "      <td>autoFE_f_154</td>\n",
       "      <td>0.464025</td>\n",
       "    </tr>\n",
       "    <tr>\n",
       "      <th>37</th>\n",
       "      <td>415</td>\n",
       "      <td>DurationTurns</td>\n",
       "      <td>0.462530</td>\n",
       "    </tr>\n",
       "    <tr>\n",
       "      <th>38</th>\n",
       "      <td>416</td>\n",
       "      <td>DurationTurnsStdDev</td>\n",
       "      <td>0.445549</td>\n",
       "    </tr>\n",
       "    <tr>\n",
       "      <th>39</th>\n",
       "      <td>789</td>\n",
       "      <td>autoFE_f_191</td>\n",
       "      <td>0.438555</td>\n",
       "    </tr>\n",
       "    <tr>\n",
       "      <th>40</th>\n",
       "      <td>606</td>\n",
       "      <td>autoFE_f_8</td>\n",
       "      <td>0.431017</td>\n",
       "    </tr>\n",
       "    <tr>\n",
       "      <th>41</th>\n",
       "      <td>593</td>\n",
       "      <td>src_p2_exploration</td>\n",
       "      <td>0.428901</td>\n",
       "    </tr>\n",
       "    <tr>\n",
       "      <th>42</th>\n",
       "      <td>447</td>\n",
       "      <td>BranchingFactorChangeMaxIncrease</td>\n",
       "      <td>0.417099</td>\n",
       "    </tr>\n",
       "    <tr>\n",
       "      <th>43</th>\n",
       "      <td>442</td>\n",
       "      <td>BranchingFactorVariance</td>\n",
       "      <td>0.415740</td>\n",
       "    </tr>\n",
       "    <tr>\n",
       "      <th>44</th>\n",
       "      <td>877</td>\n",
       "      <td>autoFE_f_279</td>\n",
       "      <td>0.402775</td>\n",
       "    </tr>\n",
       "    <tr>\n",
       "      <th>45</th>\n",
       "      <td>787</td>\n",
       "      <td>autoFE_f_189</td>\n",
       "      <td>0.401092</td>\n",
       "    </tr>\n",
       "    <tr>\n",
       "      <th>46</th>\n",
       "      <td>589</td>\n",
       "      <td>src_p1_exploration</td>\n",
       "      <td>0.397223</td>\n",
       "    </tr>\n",
       "    <tr>\n",
       "      <th>47</th>\n",
       "      <td>434</td>\n",
       "      <td>BoardSitesOccupiedChangeSign</td>\n",
       "      <td>0.395399</td>\n",
       "    </tr>\n",
       "    <tr>\n",
       "      <th>48</th>\n",
       "      <td>469</td>\n",
       "      <td>PieceNumberAverage</td>\n",
       "      <td>0.386940</td>\n",
       "    </tr>\n",
       "    <tr>\n",
       "      <th>49</th>\n",
       "      <td>1034</td>\n",
       "      <td>autoFE_f_436</td>\n",
       "      <td>0.370607</td>\n",
       "    </tr>\n",
       "  </tbody>\n",
       "</table>\n",
       "</div>"
      ],
      "text/plain": [
       "    Unnamed: 0                           feature  importance\n",
       "0          592                  src_p2_selection    4.742315\n",
       "1          588                  src_p1_selection    4.573575\n",
       "2          594                    src_p2_playout    3.547631\n",
       "3          590                    src_p1_playout    3.256589\n",
       "4          710                      autoFE_f_112    2.957773\n",
       "5          596                        src_agent1    2.612285\n",
       "6          597                        src_agent2    2.345239\n",
       "7          417          DurationTurnsNotTimeouts    2.318736\n",
       "8          585                 PlayoutsPerSecond    1.824766\n",
       "9         1066                      autoFE_f_468    1.766051\n",
       "10         424                           Balance    1.552733\n",
       "11         600                        autoFE_f_2    1.498745\n",
       "12         984                      autoFE_f_386    1.449645\n",
       "13         419                GameTreeComplexity    1.420160\n",
       "14         586                    MovesPerSecond    1.103320\n",
       "15         418                     DecisionMoves    1.082721\n",
       "16         604                        autoFE_f_6    0.980785\n",
       "17         955                      autoFE_f_357    0.937732\n",
       "18         931                      autoFE_f_333    0.932028\n",
       "19         413                   DurationActions    0.910299\n",
       "20         792                      autoFE_f_194    0.871404\n",
       "21         657                       autoFE_f_59    0.868332\n",
       "22         411                     DrawFrequency    0.843980\n",
       "23         420               StateTreeComplexity    0.836203\n",
       "24         428                 OutcomeUniformity    0.754272\n",
       "25         450              DecisionFactorMedian    0.693786\n",
       "26         470                 PieceNumberMedian    0.648348\n",
       "27         780                      autoFE_f_182    0.618234\n",
       "28         243               HopCaptureFrequency    0.605724\n",
       "29         414                     DurationMoves    0.574485\n",
       "30         440             BranchingFactorMedian    0.571864\n",
       "31         471                PieceNumberMaximum    0.544227\n",
       "32         772                      autoFE_f_174    0.493970\n",
       "33         951                      autoFE_f_353    0.477659\n",
       "34         926                      autoFE_f_328    0.473029\n",
       "35         431         BoardSitesOccupiedMaximum    0.472983\n",
       "36         752                      autoFE_f_154    0.464025\n",
       "37         415                     DurationTurns    0.462530\n",
       "38         416               DurationTurnsStdDev    0.445549\n",
       "39         789                      autoFE_f_191    0.438555\n",
       "40         606                        autoFE_f_8    0.431017\n",
       "41         593                src_p2_exploration    0.428901\n",
       "42         447  BranchingFactorChangeMaxIncrease    0.417099\n",
       "43         442           BranchingFactorVariance    0.415740\n",
       "44         877                      autoFE_f_279    0.402775\n",
       "45         787                      autoFE_f_189    0.401092\n",
       "46         589                src_p1_exploration    0.397223\n",
       "47         434      BoardSitesOccupiedChangeSign    0.395399\n",
       "48         469                PieceNumberAverage    0.386940\n",
       "49        1034                      autoFE_f_436    0.370607"
      ]
     },
     "execution_count": 22,
     "metadata": {},
     "output_type": "execute_result"
    }
   ],
   "source": [
    "f.head(50)"
   ]
  },
  {
   "cell_type": "code",
   "execution_count": 15,
   "metadata": {},
   "outputs": [
    {
     "data": {
      "text/plain": [
       "(233234, 814)"
      ]
     },
     "execution_count": 15,
     "metadata": {},
     "output_type": "execute_result"
    }
   ],
   "source": [
    "df.shape"
   ]
  },
  {
   "cell_type": "code",
   "execution_count": 12,
   "metadata": {},
   "outputs": [],
   "source": [
    "dfs = df.copy()"
   ]
  },
  {
   "cell_type": "code",
   "execution_count": 13,
   "metadata": {},
   "outputs": [],
   "source": [
    "dft = dfs[(dfs[\"GameRulesetName\"] == df[\"GameRulesetName\"]) & (dfs[\"agent1\"] == df[\"agent2\"]) & (dfs[\"agent2\"] == df[\"agent1\"])]"
   ]
  },
  {
   "cell_type": "code",
   "execution_count": 14,
   "metadata": {},
   "outputs": [
    {
     "data": {
      "text/plain": [
       "(0, 814)"
      ]
     },
     "execution_count": 14,
     "metadata": {},
     "output_type": "execute_result"
    }
   ],
   "source": [
    "dft.shape"
   ]
  },
  {
   "cell_type": "code",
   "execution_count": 12,
   "metadata": {},
   "outputs": [
    {
     "data": {
      "text/plain": [
       "390"
      ]
     },
     "execution_count": 12,
     "metadata": {},
     "output_type": "execute_result"
    }
   ],
   "source": [
    "\n",
    "d1 = df[\"AdvantageP1\"]\n",
    "d2 = df[\"MoveDistanceMaxDecrease\"]\n",
    "d1.groupby(d2).rank(ascending=True, pct=True).nunique()"
   ]
  },
  {
   "cell_type": "code",
   "execution_count": 14,
   "metadata": {},
   "outputs": [],
   "source": [
    "import pickle\n",
    "\n",
    "with open('feature.pickle', 'rb') as file:\n",
    "    feature = pickle.load(file)"
   ]
  },
  {
   "cell_type": "code",
   "execution_count": 16,
   "metadata": {},
   "outputs": [
    {
     "data": {
      "text/plain": [
       "'GroupByThenRank'"
      ]
     },
     "execution_count": 16,
     "metadata": {},
     "output_type": "execute_result"
    }
   ],
   "source": [
    "feature[0].name"
   ]
  },
  {
   "cell_type": "code",
   "execution_count": 27,
   "metadata": {},
   "outputs": [],
   "source": [
    "import polars as pl\n",
    "\n",
    "sub = pl.read_parquet('/home/toefl/K/MCTS/submission.parquet')"
   ]
  },
  {
   "cell_type": "code",
   "execution_count": 28,
   "metadata": {},
   "outputs": [
    {
     "data": {
      "text/html": [
       "<div><style>\n",
       ".dataframe > thead > tr,\n",
       ".dataframe > tbody > tr {\n",
       "  text-align: right;\n",
       "  white-space: pre-wrap;\n",
       "}\n",
       "</style>\n",
       "<small>shape: (3, 2)</small><table border=\"1\" class=\"dataframe\"><thead><tr><th>Id</th><th>utility_agent1</th></tr><tr><td>i64</td><td>f64</td></tr></thead><tbody><tr><td>233234</td><td>0.179138</td></tr><tr><td>233236</td><td>0.030618</td></tr><tr><td>233235</td><td>-0.188421</td></tr></tbody></table></div>"
      ],
      "text/plain": [
       "shape: (3, 2)\n",
       "┌────────┬────────────────┐\n",
       "│ Id     ┆ utility_agent1 │\n",
       "│ ---    ┆ ---            │\n",
       "│ i64    ┆ f64            │\n",
       "╞════════╪════════════════╡\n",
       "│ 233234 ┆ 0.179138       │\n",
       "│ 233236 ┆ 0.030618       │\n",
       "│ 233235 ┆ -0.188421      │\n",
       "└────────┴────────────────┘"
      ]
     },
     "execution_count": 28,
     "metadata": {},
     "output_type": "execute_result"
    }
   ],
   "source": [
    "sub"
   ]
  },
  {
   "cell_type": "code",
   "execution_count": 18,
   "metadata": {},
   "outputs": [
    {
     "data": {
      "text/html": [
       "<div><style>\n",
       ".dataframe > thead > tr,\n",
       ".dataframe > tbody > tr {\n",
       "  text-align: right;\n",
       "  white-space: pre-wrap;\n",
       "}\n",
       "</style>\n",
       "<small>shape: (3, 2)</small><table border=\"1\" class=\"dataframe\"><thead><tr><th>Id</th><th>utility_agent1</th></tr><tr><td>i64</td><td>f64</td></tr></thead><tbody><tr><td>233234</td><td>0.185311</td></tr><tr><td>233236</td><td>0.014517</td></tr><tr><td>233235</td><td>-0.185311</td></tr></tbody></table></div>"
      ],
      "text/plain": [
       "shape: (3, 2)\n",
       "┌────────┬────────────────┐\n",
       "│ Id     ┆ utility_agent1 │\n",
       "│ ---    ┆ ---            │\n",
       "│ i64    ┆ f64            │\n",
       "╞════════╪════════════════╡\n",
       "│ 233234 ┆ 0.185311       │\n",
       "│ 233236 ┆ 0.014517       │\n",
       "│ 233235 ┆ -0.185311      │\n",
       "└────────┴────────────────┘"
      ]
     },
     "execution_count": 18,
     "metadata": {},
     "output_type": "execute_result"
    }
   ],
   "source": [
    "sub"
   ]
  },
  {
   "cell_type": "code",
   "execution_count": 6,
   "metadata": {},
   "outputs": [
    {
     "data": {
      "text/html": [
       "<div><style>\n",
       ".dataframe > thead > tr,\n",
       ".dataframe > tbody > tr {\n",
       "  text-align: right;\n",
       "  white-space: pre-wrap;\n",
       "}\n",
       "</style>\n",
       "<small>shape: (3, 2)</small><table border=\"1\" class=\"dataframe\"><thead><tr><th>Id</th><th>utility_agent1</th></tr><tr><td>i64</td><td>f64</td></tr></thead><tbody><tr><td>233234</td><td>0.023419</td></tr><tr><td>233235</td><td>-0.028186</td></tr><tr><td>233236</td><td>0.00731</td></tr></tbody></table></div>"
      ],
      "text/plain": [
       "shape: (3, 2)\n",
       "┌────────┬────────────────┐\n",
       "│ Id     ┆ utility_agent1 │\n",
       "│ ---    ┆ ---            │\n",
       "│ i64    ┆ f64            │\n",
       "╞════════╪════════════════╡\n",
       "│ 233234 ┆ 0.023419       │\n",
       "│ 233235 ┆ -0.028186      │\n",
       "│ 233236 ┆ 0.00731        │\n",
       "└────────┴────────────────┘"
      ]
     },
     "execution_count": 6,
     "metadata": {},
     "output_type": "execute_result"
    }
   ],
   "source": [
    "sub"
   ]
  },
  {
   "cell_type": "code",
   "execution_count": 4,
   "metadata": {},
   "outputs": [
    {
     "data": {
      "text/html": [
       "<div><style>\n",
       ".dataframe > thead > tr,\n",
       ".dataframe > tbody > tr {\n",
       "  text-align: right;\n",
       "  white-space: pre-wrap;\n",
       "}\n",
       "</style>\n",
       "<small>shape: (3, 2)</small><table border=\"1\" class=\"dataframe\"><thead><tr><th>Id</th><th>utility_agent1</th></tr><tr><td>i64</td><td>f64</td></tr></thead><tbody><tr><td>233234</td><td>0.191369</td></tr><tr><td>233236</td><td>0.023886</td></tr><tr><td>233235</td><td>-0.191369</td></tr></tbody></table></div>"
      ],
      "text/plain": [
       "shape: (3, 2)\n",
       "┌────────┬────────────────┐\n",
       "│ Id     ┆ utility_agent1 │\n",
       "│ ---    ┆ ---            │\n",
       "│ i64    ┆ f64            │\n",
       "╞════════╪════════════════╡\n",
       "│ 233234 ┆ 0.191369       │\n",
       "│ 233236 ┆ 0.023886       │\n",
       "│ 233235 ┆ -0.191369      │\n",
       "└────────┴────────────────┘"
      ]
     },
     "execution_count": 4,
     "metadata": {},
     "output_type": "execute_result"
    }
   ],
   "source": [
    "sub"
   ]
  },
  {
   "cell_type": "code",
   "execution_count": 7,
   "metadata": {},
   "outputs": [
    {
     "data": {
      "text/plain": [
       "72"
      ]
     },
     "execution_count": 7,
     "metadata": {},
     "output_type": "execute_result"
    }
   ],
   "source": [
    "df[\"agent1\"].nunique()"
   ]
  },
  {
   "cell_type": "code",
   "execution_count": 11,
   "metadata": {},
   "outputs": [],
   "source": [
    "df[\"agent\"] = df[\"agent1\"] + \"_\" + df[\"agent2\"] "
   ]
  },
  {
   "cell_type": "code",
   "execution_count": 14,
   "metadata": {},
   "outputs": [],
   "source": [
    "df[[\"agent\", \"utility_agent1\"]].groupby(\"agent\").mean().sort_values(by=\"utility_agent1\").to_csv('dataset/avg.csv')"
   ]
  },
  {
   "cell_type": "code",
   "execution_count": 15,
   "metadata": {},
   "outputs": [],
   "source": [
    "df[[\"GameRulesetName\", \"utility_agent1\"]].groupby(\"GameRulesetName\").mean().sort_values(by=\"utility_agent1\").to_csv('dataset/avg_game.csv')"
   ]
  },
  {
   "cell_type": "code",
   "execution_count": 26,
   "metadata": {},
   "outputs": [],
   "source": [
    "oof_labels = artifacts[\"catboost\"][\"oof_labels\"]\n",
    "oof_preds = artifacts[\"catboost\"][\"oof_preds\"]\n",
    "\n",
    "oof_preds_fixed = oof_preds.copy()\n",
    "oof_preds_fixed[df[\"GameTreeComplexity\"] == 0] = 2 * df[df[\"GameTreeComplexity\"] == 0][\"src_AdvantageP1\"] - 1"
   ]
  },
  {
   "cell_type": "code",
   "execution_count": 25,
   "metadata": {},
   "outputs": [
    {
     "data": {
      "text/plain": [
       "array([-0.46666667, -0.33333333, -0.06666667, -0.33333333, -0.33333333])"
      ]
     },
     "execution_count": 25,
     "metadata": {},
     "output_type": "execute_result"
    }
   ],
   "source": [
    "oof_labels[:5]"
   ]
  },
  {
   "cell_type": "code",
   "execution_count": 28,
   "metadata": {},
   "outputs": [
    {
     "data": {
      "text/plain": [
       "0.40186378136362766"
      ]
     },
     "execution_count": 28,
     "metadata": {},
     "output_type": "execute_result"
    }
   ],
   "source": [
    "mean_squared_error(oof_labels, oof_preds_fixed, squared=False)"
   ]
  },
  {
   "cell_type": "code",
   "execution_count": 14,
   "metadata": {},
   "outputs": [],
   "source": [
    "import pickle\n",
    "with open('solver_checkpoint.pickle', 'rb') as file:\n",
    "    data = pickle.load(file)"
   ]
  },
  {
   "cell_type": "code",
   "execution_count": 16,
   "metadata": {},
   "outputs": [
    {
     "ename": "KeyError",
     "evalue": "'oof_label'",
     "output_type": "error",
     "traceback": [
      "\u001b[0;31m---------------------------------------------------------------------------\u001b[0m",
      "\u001b[0;31mKeyError\u001b[0m                                  Traceback (most recent call last)",
      "\u001b[0;32m<ipython-input-16-e3cb8b58d061>\u001b[0m in \u001b[0;36m<module>\u001b[0;34m\u001b[0m\n\u001b[0;32m----> 1\u001b[0;31m \u001b[0moof_labels\u001b[0m \u001b[0;34m=\u001b[0m \u001b[0mdata\u001b[0m\u001b[0;34m[\u001b[0m\u001b[0;34m\"catboost\"\u001b[0m\u001b[0;34m]\u001b[0m\u001b[0;34m[\u001b[0m\u001b[0;34m\"oof_label\"\u001b[0m\u001b[0;34m]\u001b[0m\u001b[0;34m\u001b[0m\u001b[0;34m\u001b[0m\u001b[0m\n\u001b[0m\u001b[1;32m      2\u001b[0m \u001b[0moof_preds\u001b[0m \u001b[0;34m=\u001b[0m \u001b[0mdata\u001b[0m\u001b[0;34m[\u001b[0m\u001b[0;34m\"catboost\"\u001b[0m\u001b[0;34m]\u001b[0m\u001b[0;34m[\u001b[0m\u001b[0;34m\"oof_preds\"\u001b[0m\u001b[0;34m]\u001b[0m\u001b[0;34m\u001b[0m\u001b[0;34m\u001b[0m\u001b[0m\n",
      "\u001b[0;31mKeyError\u001b[0m: 'oof_label'"
     ]
    }
   ],
   "source": [
    "oof_labels = data[\"catboost\"][\"oof_labels\"]\n",
    "oof_preds = data[\"catboost\"][\"oof_preds\"]"
   ]
  },
  {
   "cell_type": "code",
   "execution_count": 10,
   "metadata": {},
   "outputs": [],
   "source": [
    "slc = df[df[\"GameTreeComplexity\"] == 0][[\"AdvantageP1\", \"utility_agent1\"]]\n",
    "mse = abs(slc[\"AdvantageP1\"] - (slc[\"utility_agent1\"] + 1) / 2)"
   ]
  },
  {
   "cell_type": "code",
   "execution_count": 13,
   "metadata": {},
   "outputs": [
    {
     "data": {
      "text/plain": [
       "0.0384825327510917"
      ]
     },
     "execution_count": 13,
     "metadata": {},
     "output_type": "execute_result"
    }
   ],
   "source": [
    "mse.mean()"
   ]
  },
  {
   "cell_type": "code",
   "execution_count": 10,
   "metadata": {},
   "outputs": [],
   "source": [
    "for f in df.columns.tolist():\n",
    "    if 'src' in f:\n",
    "        print(f)"
   ]
  },
  {
   "cell_type": "code",
   "execution_count": 1,
   "metadata": {},
   "outputs": [
    {
     "ename": "NameError",
     "evalue": "name 'df' is not defined",
     "output_type": "error",
     "traceback": [
      "\u001b[0;31m---------------------------------------------------------------------------\u001b[0m",
      "\u001b[0;31mNameError\u001b[0m                                 Traceback (most recent call last)",
      "\u001b[0;32m<ipython-input-1-0a9861c7c804>\u001b[0m in \u001b[0;36m<module>\u001b[0;34m\u001b[0m\n\u001b[0;32m----> 1\u001b[0;31m \u001b[0mdf\u001b[0m\u001b[0;34m[\u001b[0m\u001b[0;34m\"utility_agent1\"\u001b[0m\u001b[0;34m]\u001b[0m\u001b[0;34m.\u001b[0m\u001b[0mnunique\u001b[0m\u001b[0;34m(\u001b[0m\u001b[0;34m)\u001b[0m\u001b[0;34m\u001b[0m\u001b[0;34m\u001b[0m\u001b[0m\n\u001b[0m",
      "\u001b[0;31mNameError\u001b[0m: name 'df' is not defined"
     ]
    }
   ],
   "source": [
    "df[\"utility_agent1\"].nunique()"
   ]
  },
  {
   "cell_type": "code",
   "execution_count": 13,
   "metadata": {},
   "outputs": [],
   "source": [
    "import pickle\n",
    "\n",
    "with open('feature.pickle', 'rb') as file:\n",
    "    feature = pickle.load(file)"
   ]
  },
  {
   "cell_type": "code",
   "execution_count": 15,
   "metadata": {},
   "outputs": [
    {
     "name": "stdout",
     "output_type": "stream",
     "text": [
      "15924\n"
     ]
    }
   ],
   "source": [
    "print(len(feature))"
   ]
  },
  {
   "cell_type": "code",
   "execution_count": 19,
   "metadata": {},
   "outputs": [],
   "source": [
    "import sys\n",
    "sys.path.append('/home/toefl/K/MCTS/dataset/')\n",
    "import kaggle_evaluation.mcts_inference_server"
   ]
  },
  {
   "cell_type": "code",
   "execution_count": null,
   "metadata": {},
   "outputs": [],
   "source": [
    "        # m = {}\n",
    "        # for i, u in enumerate(Y.unique()):\n",
    "        #     m[u] = i\n",
    "        # Y = Y.map(m)"
   ]
  },
  {
   "cell_type": "code",
   "execution_count": null,
   "metadata": {},
   "outputs": [],
   "source": [
    "        # # Custom features.\n",
    "\n",
    "        # df = df.with_columns([\n",
    "        #     (pl.col('PlayoutsPerSecond') / (pl.col('MovesPerSecond') + 1e-15)).alias('Playouts/Moves'),\n",
    "        #     (pl.col('MovesPerSecond') / (pl.col('PlayoutsPerSecond') + 1e-15)).alias('EfficiencyPerPlayout'),\n",
    "        #     (pl.col('DurationActions') / (pl.col('DurationTurnsStdDev') + 1e-15)).alias('TurnsDurationEfficiency'),\n",
    "        #     (pl.col('DurationActions') / (pl.col('MovesPerSecond') + 1e-15)).alias('ActionTimeEfficiency'),\n",
    "        #     (pl.col('DurationTurnsStdDev') / (pl.col('DurationActions') + 1e-15)).alias('StandardizedTurnsEfficiency'),\n",
    "        #     (pl.col('DurationActions') / (pl.col('StateTreeComplexity') + 1e-15)).alias('DurationToComplexityRatio'),\n",
    "        #     (pl.col('GameTreeComplexity') / (pl.col('StateTreeComplexity') + 1e-15)).alias('NormalizedGameTreeComplexity'),\n",
    "        #     (pl.col('Balance') * pl.col('GameTreeComplexity')).alias('ComplexityBalanceInteraction'),\n",
    "        #     (pl.col('StateTreeComplexity') + pl.col('GameTreeComplexity')).alias('OverallComplexity'),\n",
    "        #     (pl.col('GameTreeComplexity') / (pl.col('PlayoutsPerSecond') + 1e-15)).alias('ComplexityPerPlayout'),\n",
    "        #     (pl.col('DurationTurnsNotTimeouts') / (pl.col('MovesPerSecond') + 1e-15)).alias('TurnsNotTimeouts/Moves'),\n",
    "        #     (pl.col('Timeouts') / (pl.col('DurationActions') + 1e-15)).alias('Timeouts/DurationActions'),\n",
    "        #     (pl.col('StepDecisionToEnemy') + pl.col('SlideDecisionToEnemy') + pl.col('HopDecisionMoreThanOne')).alias('ComplexDecisionRatio'),\n",
    "        #     (pl.col('StepDecisionToEnemy') + \n",
    "        #      pl.col('HopDecisionEnemyToEnemy') + \n",
    "        #      pl.col('HopDecisionFriendToEnemy') + \n",
    "        #      pl.col('SlideDecisionToEnemy')).alias('AggressiveActionsRatio'),\n",
    "\n",
    "        #     (pl.col('src_AdvantageP1') / (pl.col('Balance') + 1e-15)).alias('src_AdvantageBalanceRatio'),\n",
    "        #     (pl.col('src_AdvantageP1') / (pl.col('DurationActions') + 1e-15)).alias('src_AdvantageTimeImpact'),\n",
    "        #     (pl.col('OutcomeUniformity') / (pl.col('src_AdvantageP1') + 1e-15)).alias('src_OutcomeUniformity/AdvantageP1'),\n",
    "\n",
    "        #     (pl.col('tta_AdvantageP1') / (pl.col('Balance') + 1e-15)).alias('tta_AdvantageBalanceRatio'),\n",
    "        #     (pl.col('tta_AdvantageP1') / (pl.col('DurationActions') + 1e-15)).alias('tta_AdvantageTimeImpact'),\n",
    "        #     (pl.col('OutcomeUniformity') / (pl.col('tta_AdvantageP1') + 1e-15)).alias('tta_OutcomeUniformity/AdvantageP1'),\n",
    "        # ])"
   ]
  },
  {
   "cell_type": "code",
   "execution_count": null,
   "metadata": {},
   "outputs": [],
   "source": [
    "# Y_train = Y_train.astype(np.float64)\n",
    "#             X[src_columns].to_csv('Xtrain.csv')\n",
    "#             Y.to_csv('Ytrain.csv')\n",
    "\n",
    "#             print('here')\n",
    "\n",
    "#             ofe = OpenFE()\n",
    "#             features = ofe.fit(data=X_train, label=Y_train.astype(np.float64))\n",
    "#             print(features)\n",
    "#             train_x, _ = transform(X_train, X_valid, features)\n",
    "#             train_x.to_csv('features.csv')"
   ]
  }
 ],
 "metadata": {
  "kernelspec": {
   "display_name": "original",
   "language": "python",
   "name": "python3"
  },
  "language_info": {
   "codemirror_mode": {
    "name": "ipython",
    "version": 3
   },
   "file_extension": ".py",
   "mimetype": "text/x-python",
   "name": "python",
   "nbconvert_exporter": "python",
   "pygments_lexer": "ipython3",
   "version": "3.8.12"
  },
  "orig_nbformat": 4,
  "vscode": {
   "interpreter": {
    "hash": "60c31336e3f10c88a4c0fe5613a070662bd63d2485ebc0592b36889f41693b04"
   }
  }
 },
 "nbformat": 4,
 "nbformat_minor": 2
}
